{
  "nbformat": 4,
  "nbformat_minor": 0,
  "metadata": {
    "colab": {
      "name": "실기1회.ipynb",
      "provenance": [],
      "collapsed_sections": [],
      "authorship_tag": "ABX9TyNdgztJA3SOI/OA4EXBnjlT",
      "include_colab_link": true
    },
    "kernelspec": {
      "name": "python3",
      "display_name": "Python 3"
    },
    "language_info": {
      "name": "python"
    }
  },
  "cells": [
    {
      "cell_type": "markdown",
      "metadata": {
        "id": "view-in-github",
        "colab_type": "text"
      },
      "source": [
        "<a href=\"https://colab.research.google.com/github/joungminhee/study/blob/master/%EB%B9%85%EB%8D%B0%EC%9D%B4%ED%84%B0%20%EB%B6%84%EC%84%9D%EA%B8%B0%EC%82%AC%20%EC%8B%A4%EA%B8%B01%ED%9A%8C.ipynb\" target=\"_parent\"><img src=\"https://colab.research.google.com/assets/colab-badge.svg\" alt=\"Open In Colab\"/></a>"
      ]
    },
    {
      "cell_type": "markdown",
      "source": [
        "#1유형"
      ],
      "metadata": {
        "id": "i6wC37IMio1O"
      }
    },
    {
      "cell_type": "code",
      "execution_count": 1,
      "metadata": {
        "id": "FoOGg3g1inLF"
      },
      "outputs": [],
      "source": [
        "import numpy as np\n",
        "import pandas as pd\n",
        "df = pd.read_csv('https://raw.githubusercontent.com/Datamanim/datarepo/main/bank/train.csv')"
      ]
    },
    {
      "cell_type": "code",
      "source": [
        "df.head()"
      ],
      "metadata": {
        "colab": {
          "base_uri": "https://localhost:8080/",
          "height": 206
        },
        "id": "iGSUIYAeiu5X",
        "outputId": "1f1dda09-7468-4fb8-ce38-305929567012"
      },
      "execution_count": 2,
      "outputs": [
        {
          "output_type": "execute_result",
          "data": {
            "text/plain": [
              "      ID  age         job  marital  education default  balance housing loan  \\\n",
              "0  13829   29  technician   single   tertiary      no    18254      no   no   \n",
              "1  22677   26    services   single  secondary      no      512     yes  yes   \n",
              "2  10541   30  management   single  secondary      no      135      no   no   \n",
              "3  13689   41  technician  married    unknown      no       30     yes   no   \n",
              "4  11304   27      admin.   single  secondary      no      321      no  yes   \n",
              "\n",
              "    contact  day month  campaign  pdays  previous poutcome   y  \n",
              "0  cellular   11   may         2     -1         0  unknown  no  \n",
              "1   unknown    5   jun         3     -1         0  unknown  no  \n",
              "2  cellular   14   aug         2     -1         0  unknown  no  \n",
              "3  cellular   10   jul         1     -1         0  unknown  no  \n",
              "4   unknown    2   sep         1     -1         0  unknown  no  "
            ],
            "text/html": [
              "\n",
              "  <div id=\"df-e556ac92-a7a8-4115-9da8-57561d83829e\">\n",
              "    <div class=\"colab-df-container\">\n",
              "      <div>\n",
              "<style scoped>\n",
              "    .dataframe tbody tr th:only-of-type {\n",
              "        vertical-align: middle;\n",
              "    }\n",
              "\n",
              "    .dataframe tbody tr th {\n",
              "        vertical-align: top;\n",
              "    }\n",
              "\n",
              "    .dataframe thead th {\n",
              "        text-align: right;\n",
              "    }\n",
              "</style>\n",
              "<table border=\"1\" class=\"dataframe\">\n",
              "  <thead>\n",
              "    <tr style=\"text-align: right;\">\n",
              "      <th></th>\n",
              "      <th>ID</th>\n",
              "      <th>age</th>\n",
              "      <th>job</th>\n",
              "      <th>marital</th>\n",
              "      <th>education</th>\n",
              "      <th>default</th>\n",
              "      <th>balance</th>\n",
              "      <th>housing</th>\n",
              "      <th>loan</th>\n",
              "      <th>contact</th>\n",
              "      <th>day</th>\n",
              "      <th>month</th>\n",
              "      <th>campaign</th>\n",
              "      <th>pdays</th>\n",
              "      <th>previous</th>\n",
              "      <th>poutcome</th>\n",
              "      <th>y</th>\n",
              "    </tr>\n",
              "  </thead>\n",
              "  <tbody>\n",
              "    <tr>\n",
              "      <th>0</th>\n",
              "      <td>13829</td>\n",
              "      <td>29</td>\n",
              "      <td>technician</td>\n",
              "      <td>single</td>\n",
              "      <td>tertiary</td>\n",
              "      <td>no</td>\n",
              "      <td>18254</td>\n",
              "      <td>no</td>\n",
              "      <td>no</td>\n",
              "      <td>cellular</td>\n",
              "      <td>11</td>\n",
              "      <td>may</td>\n",
              "      <td>2</td>\n",
              "      <td>-1</td>\n",
              "      <td>0</td>\n",
              "      <td>unknown</td>\n",
              "      <td>no</td>\n",
              "    </tr>\n",
              "    <tr>\n",
              "      <th>1</th>\n",
              "      <td>22677</td>\n",
              "      <td>26</td>\n",
              "      <td>services</td>\n",
              "      <td>single</td>\n",
              "      <td>secondary</td>\n",
              "      <td>no</td>\n",
              "      <td>512</td>\n",
              "      <td>yes</td>\n",
              "      <td>yes</td>\n",
              "      <td>unknown</td>\n",
              "      <td>5</td>\n",
              "      <td>jun</td>\n",
              "      <td>3</td>\n",
              "      <td>-1</td>\n",
              "      <td>0</td>\n",
              "      <td>unknown</td>\n",
              "      <td>no</td>\n",
              "    </tr>\n",
              "    <tr>\n",
              "      <th>2</th>\n",
              "      <td>10541</td>\n",
              "      <td>30</td>\n",
              "      <td>management</td>\n",
              "      <td>single</td>\n",
              "      <td>secondary</td>\n",
              "      <td>no</td>\n",
              "      <td>135</td>\n",
              "      <td>no</td>\n",
              "      <td>no</td>\n",
              "      <td>cellular</td>\n",
              "      <td>14</td>\n",
              "      <td>aug</td>\n",
              "      <td>2</td>\n",
              "      <td>-1</td>\n",
              "      <td>0</td>\n",
              "      <td>unknown</td>\n",
              "      <td>no</td>\n",
              "    </tr>\n",
              "    <tr>\n",
              "      <th>3</th>\n",
              "      <td>13689</td>\n",
              "      <td>41</td>\n",
              "      <td>technician</td>\n",
              "      <td>married</td>\n",
              "      <td>unknown</td>\n",
              "      <td>no</td>\n",
              "      <td>30</td>\n",
              "      <td>yes</td>\n",
              "      <td>no</td>\n",
              "      <td>cellular</td>\n",
              "      <td>10</td>\n",
              "      <td>jul</td>\n",
              "      <td>1</td>\n",
              "      <td>-1</td>\n",
              "      <td>0</td>\n",
              "      <td>unknown</td>\n",
              "      <td>no</td>\n",
              "    </tr>\n",
              "    <tr>\n",
              "      <th>4</th>\n",
              "      <td>11304</td>\n",
              "      <td>27</td>\n",
              "      <td>admin.</td>\n",
              "      <td>single</td>\n",
              "      <td>secondary</td>\n",
              "      <td>no</td>\n",
              "      <td>321</td>\n",
              "      <td>no</td>\n",
              "      <td>yes</td>\n",
              "      <td>unknown</td>\n",
              "      <td>2</td>\n",
              "      <td>sep</td>\n",
              "      <td>1</td>\n",
              "      <td>-1</td>\n",
              "      <td>0</td>\n",
              "      <td>unknown</td>\n",
              "      <td>no</td>\n",
              "    </tr>\n",
              "  </tbody>\n",
              "</table>\n",
              "</div>\n",
              "      <button class=\"colab-df-convert\" onclick=\"convertToInteractive('df-e556ac92-a7a8-4115-9da8-57561d83829e')\"\n",
              "              title=\"Convert this dataframe to an interactive table.\"\n",
              "              style=\"display:none;\">\n",
              "        \n",
              "  <svg xmlns=\"http://www.w3.org/2000/svg\" height=\"24px\"viewBox=\"0 0 24 24\"\n",
              "       width=\"24px\">\n",
              "    <path d=\"M0 0h24v24H0V0z\" fill=\"none\"/>\n",
              "    <path d=\"M18.56 5.44l.94 2.06.94-2.06 2.06-.94-2.06-.94-.94-2.06-.94 2.06-2.06.94zm-11 1L8.5 8.5l.94-2.06 2.06-.94-2.06-.94L8.5 2.5l-.94 2.06-2.06.94zm10 10l.94 2.06.94-2.06 2.06-.94-2.06-.94-.94-2.06-.94 2.06-2.06.94z\"/><path d=\"M17.41 7.96l-1.37-1.37c-.4-.4-.92-.59-1.43-.59-.52 0-1.04.2-1.43.59L10.3 9.45l-7.72 7.72c-.78.78-.78 2.05 0 2.83L4 21.41c.39.39.9.59 1.41.59.51 0 1.02-.2 1.41-.59l7.78-7.78 2.81-2.81c.8-.78.8-2.07 0-2.86zM5.41 20L4 18.59l7.72-7.72 1.47 1.35L5.41 20z\"/>\n",
              "  </svg>\n",
              "      </button>\n",
              "      \n",
              "  <style>\n",
              "    .colab-df-container {\n",
              "      display:flex;\n",
              "      flex-wrap:wrap;\n",
              "      gap: 12px;\n",
              "    }\n",
              "\n",
              "    .colab-df-convert {\n",
              "      background-color: #E8F0FE;\n",
              "      border: none;\n",
              "      border-radius: 50%;\n",
              "      cursor: pointer;\n",
              "      display: none;\n",
              "      fill: #1967D2;\n",
              "      height: 32px;\n",
              "      padding: 0 0 0 0;\n",
              "      width: 32px;\n",
              "    }\n",
              "\n",
              "    .colab-df-convert:hover {\n",
              "      background-color: #E2EBFA;\n",
              "      box-shadow: 0px 1px 2px rgba(60, 64, 67, 0.3), 0px 1px 3px 1px rgba(60, 64, 67, 0.15);\n",
              "      fill: #174EA6;\n",
              "    }\n",
              "\n",
              "    [theme=dark] .colab-df-convert {\n",
              "      background-color: #3B4455;\n",
              "      fill: #D2E3FC;\n",
              "    }\n",
              "\n",
              "    [theme=dark] .colab-df-convert:hover {\n",
              "      background-color: #434B5C;\n",
              "      box-shadow: 0px 1px 3px 1px rgba(0, 0, 0, 0.15);\n",
              "      filter: drop-shadow(0px 1px 2px rgba(0, 0, 0, 0.3));\n",
              "      fill: #FFFFFF;\n",
              "    }\n",
              "  </style>\n",
              "\n",
              "      <script>\n",
              "        const buttonEl =\n",
              "          document.querySelector('#df-e556ac92-a7a8-4115-9da8-57561d83829e button.colab-df-convert');\n",
              "        buttonEl.style.display =\n",
              "          google.colab.kernel.accessAllowed ? 'block' : 'none';\n",
              "\n",
              "        async function convertToInteractive(key) {\n",
              "          const element = document.querySelector('#df-e556ac92-a7a8-4115-9da8-57561d83829e');\n",
              "          const dataTable =\n",
              "            await google.colab.kernel.invokeFunction('convertToInteractive',\n",
              "                                                     [key], {});\n",
              "          if (!dataTable) return;\n",
              "\n",
              "          const docLinkHtml = 'Like what you see? Visit the ' +\n",
              "            '<a target=\"_blank\" href=https://colab.research.google.com/notebooks/data_table.ipynb>data table notebook</a>'\n",
              "            + ' to learn more about interactive tables.';\n",
              "          element.innerHTML = '';\n",
              "          dataTable['output_type'] = 'display_data';\n",
              "          await google.colab.output.renderOutput(dataTable, element);\n",
              "          const docLink = document.createElement('div');\n",
              "          docLink.innerHTML = docLinkHtml;\n",
              "          element.appendChild(docLink);\n",
              "        }\n",
              "      </script>\n",
              "    </div>\n",
              "  </div>\n",
              "  "
            ]
          },
          "metadata": {},
          "execution_count": 2
        }
      ]
    },
    {
      "cell_type": "markdown",
      "source": [
        "마케팅 응답 고객들의 나이를 10살 단위로 변환 했을 때, 가장 많은 인원을 가진 나이대는? \n",
        "\n",
        "(0 - 9: 0,\n",
        "\n",
        "10 - 19 = 10)"
      ],
      "metadata": {
        "id": "9056hGRpi6bi"
      }
    },
    {
      "cell_type": "code",
      "source": [
        "df['age10'] = df['age']//10 * 10"
      ],
      "metadata": {
        "id": "S-7T5nbejNsC"
      },
      "execution_count": 3,
      "outputs": []
    },
    {
      "cell_type": "code",
      "source": [
        "df['age10'].value_counts().index[0]"
      ],
      "metadata": {
        "colab": {
          "base_uri": "https://localhost:8080/"
        },
        "id": "PZRolz61jeFM",
        "outputId": "52482124-9c54-407c-d408-deeddf789d97"
      },
      "execution_count": 4,
      "outputs": [
        {
          "output_type": "execute_result",
          "data": {
            "text/plain": [
              "30"
            ]
          },
          "metadata": {},
          "execution_count": 4
        }
      ]
    },
    {
      "cell_type": "markdown",
      "source": [
        "마케팅 응답 고객들의 나이를 10살 단위로 변환 했을 때, 가장 많은 나이대 구간의 인원은 몇명인가?"
      ],
      "metadata": {
        "id": "KD06KbHbjxMf"
      }
    },
    {
      "cell_type": "code",
      "source": [
        "df['age10'].value_counts().values[0]"
      ],
      "metadata": {
        "colab": {
          "base_uri": "https://localhost:8080/"
        },
        "id": "rKTKct-gjymd",
        "outputId": "b21470ce-a0f9-4a68-fe94-a97e157d1f5b"
      },
      "execution_count": 5,
      "outputs": [
        {
          "output_type": "execute_result",
          "data": {
            "text/plain": [
              "5056"
            ]
          },
          "metadata": {},
          "execution_count": 5
        }
      ]
    },
    {
      "cell_type": "markdown",
      "source": [
        "나이가 25살 이상 29살 미만인 응답 고객들중 housing컬럼의 값이 yes인 고객의 수는?"
      ],
      "metadata": {
        "id": "eUUZS1l7j7XU"
      }
    },
    {
      "cell_type": "code",
      "source": [
        "df1 = df[(df['age'] >= 25) & (df['age'] < 29)]"
      ],
      "metadata": {
        "id": "4D36h0Zzj75o"
      },
      "execution_count": 6,
      "outputs": []
    },
    {
      "cell_type": "code",
      "source": [
        "df1[df1['housing']=='yes'].shape[0]"
      ],
      "metadata": {
        "colab": {
          "base_uri": "https://localhost:8080/"
        },
        "id": "l3aopQZnkT8k",
        "outputId": "1beb185d-57d9-44c0-89fd-16a31dd4d0a6"
      },
      "execution_count": 7,
      "outputs": [
        {
          "output_type": "execute_result",
          "data": {
            "text/plain": [
              "504"
            ]
          },
          "metadata": {},
          "execution_count": 7
        }
      ]
    },
    {
      "cell_type": "markdown",
      "source": [
        "numeric한 값을 가지지 않은 컬럼들중 unique한 값을 가장 많이 가지는 컬럼은?"
      ],
      "metadata": {
        "id": "iTlp_NaGkuPO"
      }
    },
    {
      "cell_type": "code",
      "source": [
        "df.info()"
      ],
      "metadata": {
        "colab": {
          "base_uri": "https://localhost:8080/"
        },
        "id": "vPYenaSpkuiV",
        "outputId": "2faf7ade-984b-4ce2-854f-cea64ddc20b0"
      },
      "execution_count": 8,
      "outputs": [
        {
          "output_type": "stream",
          "name": "stdout",
          "text": [
            "<class 'pandas.core.frame.DataFrame'>\n",
            "RangeIndex: 12870 entries, 0 to 12869\n",
            "Data columns (total 18 columns):\n",
            " #   Column     Non-Null Count  Dtype \n",
            "---  ------     --------------  ----- \n",
            " 0   ID         12870 non-null  int64 \n",
            " 1   age        12870 non-null  int64 \n",
            " 2   job        12870 non-null  object\n",
            " 3   marital    12870 non-null  object\n",
            " 4   education  12870 non-null  object\n",
            " 5   default    12870 non-null  object\n",
            " 6   balance    12870 non-null  int64 \n",
            " 7   housing    12870 non-null  object\n",
            " 8   loan       12870 non-null  object\n",
            " 9   contact    12870 non-null  object\n",
            " 10  day        12870 non-null  int64 \n",
            " 11  month      12870 non-null  object\n",
            " 12  campaign   12870 non-null  int64 \n",
            " 13  pdays      12870 non-null  int64 \n",
            " 14  previous   12870 non-null  int64 \n",
            " 15  poutcome   12870 non-null  object\n",
            " 16  y          12870 non-null  object\n",
            " 17  age10      12870 non-null  int64 \n",
            "dtypes: int64(8), object(10)\n",
            "memory usage: 1.8+ MB\n"
          ]
        }
      ]
    },
    {
      "cell_type": "code",
      "source": [
        "df.describe(include='object')"
      ],
      "metadata": {
        "colab": {
          "base_uri": "https://localhost:8080/",
          "height": 175
        },
        "id": "47PhyErJk0CG",
        "outputId": "b85cf05e-28a3-4572-d761-1b4842b264cf"
      },
      "execution_count": 9,
      "outputs": [
        {
          "output_type": "execute_result",
          "data": {
            "text/plain": [
              "               job  marital  education default housing   loan   contact  \\\n",
              "count        12870    12870      12870   12870   12870  12870     12870   \n",
              "unique          12        3          4       2       2      2         3   \n",
              "top     management  married  secondary      no     yes     no  cellular   \n",
              "freq          2858     7490       6368   12662    6605  11060      8756   \n",
              "\n",
              "        month poutcome      y  \n",
              "count   12870    12870  12870  \n",
              "unique     12        4      2  \n",
              "top       may  unknown     no  \n",
              "freq     3594    10070   8903  "
            ],
            "text/html": [
              "\n",
              "  <div id=\"df-f784ec1c-fb37-4385-9f59-a52eed713fbb\">\n",
              "    <div class=\"colab-df-container\">\n",
              "      <div>\n",
              "<style scoped>\n",
              "    .dataframe tbody tr th:only-of-type {\n",
              "        vertical-align: middle;\n",
              "    }\n",
              "\n",
              "    .dataframe tbody tr th {\n",
              "        vertical-align: top;\n",
              "    }\n",
              "\n",
              "    .dataframe thead th {\n",
              "        text-align: right;\n",
              "    }\n",
              "</style>\n",
              "<table border=\"1\" class=\"dataframe\">\n",
              "  <thead>\n",
              "    <tr style=\"text-align: right;\">\n",
              "      <th></th>\n",
              "      <th>job</th>\n",
              "      <th>marital</th>\n",
              "      <th>education</th>\n",
              "      <th>default</th>\n",
              "      <th>housing</th>\n",
              "      <th>loan</th>\n",
              "      <th>contact</th>\n",
              "      <th>month</th>\n",
              "      <th>poutcome</th>\n",
              "      <th>y</th>\n",
              "    </tr>\n",
              "  </thead>\n",
              "  <tbody>\n",
              "    <tr>\n",
              "      <th>count</th>\n",
              "      <td>12870</td>\n",
              "      <td>12870</td>\n",
              "      <td>12870</td>\n",
              "      <td>12870</td>\n",
              "      <td>12870</td>\n",
              "      <td>12870</td>\n",
              "      <td>12870</td>\n",
              "      <td>12870</td>\n",
              "      <td>12870</td>\n",
              "      <td>12870</td>\n",
              "    </tr>\n",
              "    <tr>\n",
              "      <th>unique</th>\n",
              "      <td>12</td>\n",
              "      <td>3</td>\n",
              "      <td>4</td>\n",
              "      <td>2</td>\n",
              "      <td>2</td>\n",
              "      <td>2</td>\n",
              "      <td>3</td>\n",
              "      <td>12</td>\n",
              "      <td>4</td>\n",
              "      <td>2</td>\n",
              "    </tr>\n",
              "    <tr>\n",
              "      <th>top</th>\n",
              "      <td>management</td>\n",
              "      <td>married</td>\n",
              "      <td>secondary</td>\n",
              "      <td>no</td>\n",
              "      <td>yes</td>\n",
              "      <td>no</td>\n",
              "      <td>cellular</td>\n",
              "      <td>may</td>\n",
              "      <td>unknown</td>\n",
              "      <td>no</td>\n",
              "    </tr>\n",
              "    <tr>\n",
              "      <th>freq</th>\n",
              "      <td>2858</td>\n",
              "      <td>7490</td>\n",
              "      <td>6368</td>\n",
              "      <td>12662</td>\n",
              "      <td>6605</td>\n",
              "      <td>11060</td>\n",
              "      <td>8756</td>\n",
              "      <td>3594</td>\n",
              "      <td>10070</td>\n",
              "      <td>8903</td>\n",
              "    </tr>\n",
              "  </tbody>\n",
              "</table>\n",
              "</div>\n",
              "      <button class=\"colab-df-convert\" onclick=\"convertToInteractive('df-f784ec1c-fb37-4385-9f59-a52eed713fbb')\"\n",
              "              title=\"Convert this dataframe to an interactive table.\"\n",
              "              style=\"display:none;\">\n",
              "        \n",
              "  <svg xmlns=\"http://www.w3.org/2000/svg\" height=\"24px\"viewBox=\"0 0 24 24\"\n",
              "       width=\"24px\">\n",
              "    <path d=\"M0 0h24v24H0V0z\" fill=\"none\"/>\n",
              "    <path d=\"M18.56 5.44l.94 2.06.94-2.06 2.06-.94-2.06-.94-.94-2.06-.94 2.06-2.06.94zm-11 1L8.5 8.5l.94-2.06 2.06-.94-2.06-.94L8.5 2.5l-.94 2.06-2.06.94zm10 10l.94 2.06.94-2.06 2.06-.94-2.06-.94-.94-2.06-.94 2.06-2.06.94z\"/><path d=\"M17.41 7.96l-1.37-1.37c-.4-.4-.92-.59-1.43-.59-.52 0-1.04.2-1.43.59L10.3 9.45l-7.72 7.72c-.78.78-.78 2.05 0 2.83L4 21.41c.39.39.9.59 1.41.59.51 0 1.02-.2 1.41-.59l7.78-7.78 2.81-2.81c.8-.78.8-2.07 0-2.86zM5.41 20L4 18.59l7.72-7.72 1.47 1.35L5.41 20z\"/>\n",
              "  </svg>\n",
              "      </button>\n",
              "      \n",
              "  <style>\n",
              "    .colab-df-container {\n",
              "      display:flex;\n",
              "      flex-wrap:wrap;\n",
              "      gap: 12px;\n",
              "    }\n",
              "\n",
              "    .colab-df-convert {\n",
              "      background-color: #E8F0FE;\n",
              "      border: none;\n",
              "      border-radius: 50%;\n",
              "      cursor: pointer;\n",
              "      display: none;\n",
              "      fill: #1967D2;\n",
              "      height: 32px;\n",
              "      padding: 0 0 0 0;\n",
              "      width: 32px;\n",
              "    }\n",
              "\n",
              "    .colab-df-convert:hover {\n",
              "      background-color: #E2EBFA;\n",
              "      box-shadow: 0px 1px 2px rgba(60, 64, 67, 0.3), 0px 1px 3px 1px rgba(60, 64, 67, 0.15);\n",
              "      fill: #174EA6;\n",
              "    }\n",
              "\n",
              "    [theme=dark] .colab-df-convert {\n",
              "      background-color: #3B4455;\n",
              "      fill: #D2E3FC;\n",
              "    }\n",
              "\n",
              "    [theme=dark] .colab-df-convert:hover {\n",
              "      background-color: #434B5C;\n",
              "      box-shadow: 0px 1px 3px 1px rgba(0, 0, 0, 0.15);\n",
              "      filter: drop-shadow(0px 1px 2px rgba(0, 0, 0, 0.3));\n",
              "      fill: #FFFFFF;\n",
              "    }\n",
              "  </style>\n",
              "\n",
              "      <script>\n",
              "        const buttonEl =\n",
              "          document.querySelector('#df-f784ec1c-fb37-4385-9f59-a52eed713fbb button.colab-df-convert');\n",
              "        buttonEl.style.display =\n",
              "          google.colab.kernel.accessAllowed ? 'block' : 'none';\n",
              "\n",
              "        async function convertToInteractive(key) {\n",
              "          const element = document.querySelector('#df-f784ec1c-fb37-4385-9f59-a52eed713fbb');\n",
              "          const dataTable =\n",
              "            await google.colab.kernel.invokeFunction('convertToInteractive',\n",
              "                                                     [key], {});\n",
              "          if (!dataTable) return;\n",
              "\n",
              "          const docLinkHtml = 'Like what you see? Visit the ' +\n",
              "            '<a target=\"_blank\" href=https://colab.research.google.com/notebooks/data_table.ipynb>data table notebook</a>'\n",
              "            + ' to learn more about interactive tables.';\n",
              "          element.innerHTML = '';\n",
              "          dataTable['output_type'] = 'display_data';\n",
              "          await google.colab.output.renderOutput(dataTable, element);\n",
              "          const docLink = document.createElement('div');\n",
              "          docLink.innerHTML = docLinkHtml;\n",
              "          element.appendChild(docLink);\n",
              "        }\n",
              "      </script>\n",
              "    </div>\n",
              "  </div>\n",
              "  "
            ]
          },
          "metadata": {},
          "execution_count": 9
        }
      ]
    },
    {
      "cell_type": "code",
      "source": [
        "df['job'].unique()"
      ],
      "metadata": {
        "colab": {
          "base_uri": "https://localhost:8080/"
        },
        "id": "bkVz25HSlApS",
        "outputId": "65866c57-f85b-47da-d362-2ae1d2f3973a"
      },
      "execution_count": 10,
      "outputs": [
        {
          "output_type": "execute_result",
          "data": {
            "text/plain": [
              "array(['technician', 'services', 'management', 'admin.', 'student',\n",
              "       'blue-collar', 'housemaid', 'retired', 'unemployed',\n",
              "       'self-employed', 'unknown', 'entrepreneur'], dtype=object)"
            ]
          },
          "metadata": {},
          "execution_count": 10
        }
      ]
    },
    {
      "cell_type": "markdown",
      "source": [
        "balance 컬럼값들의 평균값 이상을 가지는 데이터를 ID값을 기준으로 내림차순 정렬했을때 상위 100개 데이터의 balance값의 평균은?"
      ],
      "metadata": {
        "id": "brWJtkwalt-P"
      }
    },
    {
      "cell_type": "code",
      "source": [
        "df1 = df[df.balance >= df.balance.mean()].sort_values('ID', ascending=False).head(100)"
      ],
      "metadata": {
        "id": "1eEJt31tluo9"
      },
      "execution_count": 11,
      "outputs": []
    },
    {
      "cell_type": "code",
      "source": [
        "df1.balance.mean()"
      ],
      "metadata": {
        "colab": {
          "base_uri": "https://localhost:8080/"
        },
        "id": "HLNr6sUjm7xd",
        "outputId": "a06bb33f-5d8c-4d87-9005-d0204b8e9b58"
      },
      "execution_count": 12,
      "outputs": [
        {
          "output_type": "execute_result",
          "data": {
            "text/plain": [
              "3473.73"
            ]
          },
          "metadata": {},
          "execution_count": 12
        }
      ]
    },
    {
      "cell_type": "markdown",
      "source": [
        "가장 많은 광고를 집행했던 날짜는 언제인가? (데이터 그대로 일(숫자),달(영문)으로 표기)"
      ],
      "metadata": {
        "id": "Hm620TVEm_-0"
      }
    },
    {
      "cell_type": "code",
      "source": [
        "df.head()"
      ],
      "metadata": {
        "colab": {
          "base_uri": "https://localhost:8080/",
          "height": 250
        },
        "id": "eBFsDaWvnASB",
        "outputId": "c3c3485d-a374-432c-9423-5f411f8b2d40"
      },
      "execution_count": 13,
      "outputs": [
        {
          "output_type": "execute_result",
          "data": {
            "text/plain": [
              "      ID  age         job  marital  education default  balance housing loan  \\\n",
              "0  13829   29  technician   single   tertiary      no    18254      no   no   \n",
              "1  22677   26    services   single  secondary      no      512     yes  yes   \n",
              "2  10541   30  management   single  secondary      no      135      no   no   \n",
              "3  13689   41  technician  married    unknown      no       30     yes   no   \n",
              "4  11304   27      admin.   single  secondary      no      321      no  yes   \n",
              "\n",
              "    contact  day month  campaign  pdays  previous poutcome   y  age10  \n",
              "0  cellular   11   may         2     -1         0  unknown  no     20  \n",
              "1   unknown    5   jun         3     -1         0  unknown  no     20  \n",
              "2  cellular   14   aug         2     -1         0  unknown  no     30  \n",
              "3  cellular   10   jul         1     -1         0  unknown  no     40  \n",
              "4   unknown    2   sep         1     -1         0  unknown  no     20  "
            ],
            "text/html": [
              "\n",
              "  <div id=\"df-c1da4191-02f5-4e83-bd19-29fefd49c8fd\">\n",
              "    <div class=\"colab-df-container\">\n",
              "      <div>\n",
              "<style scoped>\n",
              "    .dataframe tbody tr th:only-of-type {\n",
              "        vertical-align: middle;\n",
              "    }\n",
              "\n",
              "    .dataframe tbody tr th {\n",
              "        vertical-align: top;\n",
              "    }\n",
              "\n",
              "    .dataframe thead th {\n",
              "        text-align: right;\n",
              "    }\n",
              "</style>\n",
              "<table border=\"1\" class=\"dataframe\">\n",
              "  <thead>\n",
              "    <tr style=\"text-align: right;\">\n",
              "      <th></th>\n",
              "      <th>ID</th>\n",
              "      <th>age</th>\n",
              "      <th>job</th>\n",
              "      <th>marital</th>\n",
              "      <th>education</th>\n",
              "      <th>default</th>\n",
              "      <th>balance</th>\n",
              "      <th>housing</th>\n",
              "      <th>loan</th>\n",
              "      <th>contact</th>\n",
              "      <th>day</th>\n",
              "      <th>month</th>\n",
              "      <th>campaign</th>\n",
              "      <th>pdays</th>\n",
              "      <th>previous</th>\n",
              "      <th>poutcome</th>\n",
              "      <th>y</th>\n",
              "      <th>age10</th>\n",
              "    </tr>\n",
              "  </thead>\n",
              "  <tbody>\n",
              "    <tr>\n",
              "      <th>0</th>\n",
              "      <td>13829</td>\n",
              "      <td>29</td>\n",
              "      <td>technician</td>\n",
              "      <td>single</td>\n",
              "      <td>tertiary</td>\n",
              "      <td>no</td>\n",
              "      <td>18254</td>\n",
              "      <td>no</td>\n",
              "      <td>no</td>\n",
              "      <td>cellular</td>\n",
              "      <td>11</td>\n",
              "      <td>may</td>\n",
              "      <td>2</td>\n",
              "      <td>-1</td>\n",
              "      <td>0</td>\n",
              "      <td>unknown</td>\n",
              "      <td>no</td>\n",
              "      <td>20</td>\n",
              "    </tr>\n",
              "    <tr>\n",
              "      <th>1</th>\n",
              "      <td>22677</td>\n",
              "      <td>26</td>\n",
              "      <td>services</td>\n",
              "      <td>single</td>\n",
              "      <td>secondary</td>\n",
              "      <td>no</td>\n",
              "      <td>512</td>\n",
              "      <td>yes</td>\n",
              "      <td>yes</td>\n",
              "      <td>unknown</td>\n",
              "      <td>5</td>\n",
              "      <td>jun</td>\n",
              "      <td>3</td>\n",
              "      <td>-1</td>\n",
              "      <td>0</td>\n",
              "      <td>unknown</td>\n",
              "      <td>no</td>\n",
              "      <td>20</td>\n",
              "    </tr>\n",
              "    <tr>\n",
              "      <th>2</th>\n",
              "      <td>10541</td>\n",
              "      <td>30</td>\n",
              "      <td>management</td>\n",
              "      <td>single</td>\n",
              "      <td>secondary</td>\n",
              "      <td>no</td>\n",
              "      <td>135</td>\n",
              "      <td>no</td>\n",
              "      <td>no</td>\n",
              "      <td>cellular</td>\n",
              "      <td>14</td>\n",
              "      <td>aug</td>\n",
              "      <td>2</td>\n",
              "      <td>-1</td>\n",
              "      <td>0</td>\n",
              "      <td>unknown</td>\n",
              "      <td>no</td>\n",
              "      <td>30</td>\n",
              "    </tr>\n",
              "    <tr>\n",
              "      <th>3</th>\n",
              "      <td>13689</td>\n",
              "      <td>41</td>\n",
              "      <td>technician</td>\n",
              "      <td>married</td>\n",
              "      <td>unknown</td>\n",
              "      <td>no</td>\n",
              "      <td>30</td>\n",
              "      <td>yes</td>\n",
              "      <td>no</td>\n",
              "      <td>cellular</td>\n",
              "      <td>10</td>\n",
              "      <td>jul</td>\n",
              "      <td>1</td>\n",
              "      <td>-1</td>\n",
              "      <td>0</td>\n",
              "      <td>unknown</td>\n",
              "      <td>no</td>\n",
              "      <td>40</td>\n",
              "    </tr>\n",
              "    <tr>\n",
              "      <th>4</th>\n",
              "      <td>11304</td>\n",
              "      <td>27</td>\n",
              "      <td>admin.</td>\n",
              "      <td>single</td>\n",
              "      <td>secondary</td>\n",
              "      <td>no</td>\n",
              "      <td>321</td>\n",
              "      <td>no</td>\n",
              "      <td>yes</td>\n",
              "      <td>unknown</td>\n",
              "      <td>2</td>\n",
              "      <td>sep</td>\n",
              "      <td>1</td>\n",
              "      <td>-1</td>\n",
              "      <td>0</td>\n",
              "      <td>unknown</td>\n",
              "      <td>no</td>\n",
              "      <td>20</td>\n",
              "    </tr>\n",
              "  </tbody>\n",
              "</table>\n",
              "</div>\n",
              "      <button class=\"colab-df-convert\" onclick=\"convertToInteractive('df-c1da4191-02f5-4e83-bd19-29fefd49c8fd')\"\n",
              "              title=\"Convert this dataframe to an interactive table.\"\n",
              "              style=\"display:none;\">\n",
              "        \n",
              "  <svg xmlns=\"http://www.w3.org/2000/svg\" height=\"24px\"viewBox=\"0 0 24 24\"\n",
              "       width=\"24px\">\n",
              "    <path d=\"M0 0h24v24H0V0z\" fill=\"none\"/>\n",
              "    <path d=\"M18.56 5.44l.94 2.06.94-2.06 2.06-.94-2.06-.94-.94-2.06-.94 2.06-2.06.94zm-11 1L8.5 8.5l.94-2.06 2.06-.94-2.06-.94L8.5 2.5l-.94 2.06-2.06.94zm10 10l.94 2.06.94-2.06 2.06-.94-2.06-.94-.94-2.06-.94 2.06-2.06.94z\"/><path d=\"M17.41 7.96l-1.37-1.37c-.4-.4-.92-.59-1.43-.59-.52 0-1.04.2-1.43.59L10.3 9.45l-7.72 7.72c-.78.78-.78 2.05 0 2.83L4 21.41c.39.39.9.59 1.41.59.51 0 1.02-.2 1.41-.59l7.78-7.78 2.81-2.81c.8-.78.8-2.07 0-2.86zM5.41 20L4 18.59l7.72-7.72 1.47 1.35L5.41 20z\"/>\n",
              "  </svg>\n",
              "      </button>\n",
              "      \n",
              "  <style>\n",
              "    .colab-df-container {\n",
              "      display:flex;\n",
              "      flex-wrap:wrap;\n",
              "      gap: 12px;\n",
              "    }\n",
              "\n",
              "    .colab-df-convert {\n",
              "      background-color: #E8F0FE;\n",
              "      border: none;\n",
              "      border-radius: 50%;\n",
              "      cursor: pointer;\n",
              "      display: none;\n",
              "      fill: #1967D2;\n",
              "      height: 32px;\n",
              "      padding: 0 0 0 0;\n",
              "      width: 32px;\n",
              "    }\n",
              "\n",
              "    .colab-df-convert:hover {\n",
              "      background-color: #E2EBFA;\n",
              "      box-shadow: 0px 1px 2px rgba(60, 64, 67, 0.3), 0px 1px 3px 1px rgba(60, 64, 67, 0.15);\n",
              "      fill: #174EA6;\n",
              "    }\n",
              "\n",
              "    [theme=dark] .colab-df-convert {\n",
              "      background-color: #3B4455;\n",
              "      fill: #D2E3FC;\n",
              "    }\n",
              "\n",
              "    [theme=dark] .colab-df-convert:hover {\n",
              "      background-color: #434B5C;\n",
              "      box-shadow: 0px 1px 3px 1px rgba(0, 0, 0, 0.15);\n",
              "      filter: drop-shadow(0px 1px 2px rgba(0, 0, 0, 0.3));\n",
              "      fill: #FFFFFF;\n",
              "    }\n",
              "  </style>\n",
              "\n",
              "      <script>\n",
              "        const buttonEl =\n",
              "          document.querySelector('#df-c1da4191-02f5-4e83-bd19-29fefd49c8fd button.colab-df-convert');\n",
              "        buttonEl.style.display =\n",
              "          google.colab.kernel.accessAllowed ? 'block' : 'none';\n",
              "\n",
              "        async function convertToInteractive(key) {\n",
              "          const element = document.querySelector('#df-c1da4191-02f5-4e83-bd19-29fefd49c8fd');\n",
              "          const dataTable =\n",
              "            await google.colab.kernel.invokeFunction('convertToInteractive',\n",
              "                                                     [key], {});\n",
              "          if (!dataTable) return;\n",
              "\n",
              "          const docLinkHtml = 'Like what you see? Visit the ' +\n",
              "            '<a target=\"_blank\" href=https://colab.research.google.com/notebooks/data_table.ipynb>data table notebook</a>'\n",
              "            + ' to learn more about interactive tables.';\n",
              "          element.innerHTML = '';\n",
              "          dataTable['output_type'] = 'display_data';\n",
              "          await google.colab.output.renderOutput(dataTable, element);\n",
              "          const docLink = document.createElement('div');\n",
              "          docLink.innerHTML = docLinkHtml;\n",
              "          element.appendChild(docLink);\n",
              "        }\n",
              "      </script>\n",
              "    </div>\n",
              "  </div>\n",
              "  "
            ]
          },
          "metadata": {},
          "execution_count": 13
        }
      ]
    },
    {
      "cell_type": "code",
      "source": [
        "df[['day','month']].value_counts().index[0]"
      ],
      "metadata": {
        "colab": {
          "base_uri": "https://localhost:8080/"
        },
        "id": "HsvPQTCnnTDU",
        "outputId": "f62c800a-640a-49fc-fd07-25c0c282e3f8"
      },
      "execution_count": 14,
      "outputs": [
        {
          "output_type": "execute_result",
          "data": {
            "text/plain": [
              "(15, 'may')"
            ]
          },
          "metadata": {},
          "execution_count": 14
        }
      ]
    },
    {
      "cell_type": "markdown",
      "source": [
        "데이터의 job이 unknown 상태인 고객들의 age 컬럼 값의 정규성을 검정하고자 한다. 샤피로 검정의 p-value값을 구하여라"
      ],
      "metadata": {
        "id": "j-zTmAmJnymv"
      }
    },
    {
      "cell_type": "code",
      "source": [
        "df[df.job == 'unknown']['age']"
      ],
      "metadata": {
        "colab": {
          "base_uri": "https://localhost:8080/"
        },
        "id": "i8PQdLbinzLf",
        "outputId": "34890f4e-6ca6-4641-b7ea-6544461b472d"
      },
      "execution_count": 15,
      "outputs": [
        {
          "output_type": "execute_result",
          "data": {
            "text/plain": [
              "25       52\n",
              "86       55\n",
              "135      46\n",
              "237      54\n",
              "409      45\n",
              "         ..\n",
              "12250    48\n",
              "12615    58\n",
              "12675    57\n",
              "12689    38\n",
              "12866    31\n",
              "Name: age, Length: 80, dtype: int64"
            ]
          },
          "metadata": {},
          "execution_count": 15
        }
      ]
    },
    {
      "cell_type": "code",
      "source": [
        "from scipy.stats import shapiro\n",
        "result = shapiro(df[df.job == 'unknown']['age'])[1]\n",
        "result\n",
        "# 샤피로검정 from scipy.stats import shapiro"
      ],
      "metadata": {
        "colab": {
          "base_uri": "https://localhost:8080/"
        },
        "id": "66SYTdhyoFV6",
        "outputId": "7b2b5d8c-0c72-480e-90e6-ef8a078124c8"
      },
      "execution_count": 16,
      "outputs": [
        {
          "output_type": "execute_result",
          "data": {
            "text/plain": [
              "0.1961131989955902"
            ]
          },
          "metadata": {},
          "execution_count": 16
        }
      ]
    },
    {
      "cell_type": "markdown",
      "source": [
        "age와 balance의 상관계수를 구하여라"
      ],
      "metadata": {
        "id": "KHPn75pfo4tz"
      }
    },
    {
      "cell_type": "code",
      "source": [
        "df[['age','balance']].corr().iloc[0,1]\n",
        "# 상관계수 함수 = corr()"
      ],
      "metadata": {
        "colab": {
          "base_uri": "https://localhost:8080/"
        },
        "id": "sjDC4ApLo5Fg",
        "outputId": "14d7d3d1-9d8d-467a-a004-ae38c7c7ae8a"
      },
      "execution_count": 17,
      "outputs": [
        {
          "output_type": "execute_result",
          "data": {
            "text/plain": [
              "0.10198734763981462"
            ]
          },
          "metadata": {},
          "execution_count": 17
        }
      ]
    },
    {
      "cell_type": "markdown",
      "source": [
        "y 변수와 education 변수는 독립인지 카이제곱검정을 통해 확인하려한다. p-value값을 출력하라"
      ],
      "metadata": {
        "id": "PmHJj6-bpaeN"
      }
    },
    {
      "cell_type": "code",
      "source": [
        "df"
      ],
      "metadata": {
        "colab": {
          "base_uri": "https://localhost:8080/",
          "height": 488
        },
        "id": "L71x4aN6pj7s",
        "outputId": "774299d9-85aa-4b3b-e891-04f0b613ca49"
      },
      "execution_count": 18,
      "outputs": [
        {
          "output_type": "execute_result",
          "data": {
            "text/plain": [
              "          ID  age         job  marital  education default  balance housing  \\\n",
              "0      13829   29  technician   single   tertiary      no    18254      no   \n",
              "1      22677   26    services   single  secondary      no      512     yes   \n",
              "2      10541   30  management   single  secondary      no      135      no   \n",
              "3      13689   41  technician  married    unknown      no       30     yes   \n",
              "4      11304   27      admin.   single  secondary      no      321      no   \n",
              "...      ...  ...         ...      ...        ...     ...      ...     ...   \n",
              "12865  14023   47  technician  married  secondary      no     1167     yes   \n",
              "12866  17259   31     unknown  married  secondary      no      111      no   \n",
              "12867  15200   37  unemployed   single   tertiary      no     1316     yes   \n",
              "12868  13775   42  management  married   tertiary      no      479     yes   \n",
              "12869  20137   24    services   single  secondary      no        0      no   \n",
              "\n",
              "      loan   contact  day month  campaign  pdays  previous poutcome    y  \\\n",
              "0       no  cellular   11   may         2     -1         0  unknown   no   \n",
              "1      yes   unknown    5   jun         3     -1         0  unknown   no   \n",
              "2       no  cellular   14   aug         2     -1         0  unknown   no   \n",
              "3       no  cellular   10   jul         1     -1         0  unknown   no   \n",
              "4      yes   unknown    2   sep         1     -1         0  unknown   no   \n",
              "...    ...       ...  ...   ...       ...    ...       ...      ...  ...   \n",
              "12865   no  cellular   30   apr         1     87         5  failure  yes   \n",
              "12866   no  cellular   21   nov         2     93         2  failure  yes   \n",
              "12867   no  cellular   18   nov         1    172         2  failure   no   \n",
              "12868   no   unknown   28   may         2     -1         0  unknown   no   \n",
              "12869   no   unknown   16   may         1     -1         0  unknown   no   \n",
              "\n",
              "       age10  \n",
              "0         20  \n",
              "1         20  \n",
              "2         30  \n",
              "3         40  \n",
              "4         20  \n",
              "...      ...  \n",
              "12865     40  \n",
              "12866     30  \n",
              "12867     30  \n",
              "12868     40  \n",
              "12869     20  \n",
              "\n",
              "[12870 rows x 18 columns]"
            ],
            "text/html": [
              "\n",
              "  <div id=\"df-fc308f84-14d1-4e7a-91ca-f5b71792ce55\">\n",
              "    <div class=\"colab-df-container\">\n",
              "      <div>\n",
              "<style scoped>\n",
              "    .dataframe tbody tr th:only-of-type {\n",
              "        vertical-align: middle;\n",
              "    }\n",
              "\n",
              "    .dataframe tbody tr th {\n",
              "        vertical-align: top;\n",
              "    }\n",
              "\n",
              "    .dataframe thead th {\n",
              "        text-align: right;\n",
              "    }\n",
              "</style>\n",
              "<table border=\"1\" class=\"dataframe\">\n",
              "  <thead>\n",
              "    <tr style=\"text-align: right;\">\n",
              "      <th></th>\n",
              "      <th>ID</th>\n",
              "      <th>age</th>\n",
              "      <th>job</th>\n",
              "      <th>marital</th>\n",
              "      <th>education</th>\n",
              "      <th>default</th>\n",
              "      <th>balance</th>\n",
              "      <th>housing</th>\n",
              "      <th>loan</th>\n",
              "      <th>contact</th>\n",
              "      <th>day</th>\n",
              "      <th>month</th>\n",
              "      <th>campaign</th>\n",
              "      <th>pdays</th>\n",
              "      <th>previous</th>\n",
              "      <th>poutcome</th>\n",
              "      <th>y</th>\n",
              "      <th>age10</th>\n",
              "    </tr>\n",
              "  </thead>\n",
              "  <tbody>\n",
              "    <tr>\n",
              "      <th>0</th>\n",
              "      <td>13829</td>\n",
              "      <td>29</td>\n",
              "      <td>technician</td>\n",
              "      <td>single</td>\n",
              "      <td>tertiary</td>\n",
              "      <td>no</td>\n",
              "      <td>18254</td>\n",
              "      <td>no</td>\n",
              "      <td>no</td>\n",
              "      <td>cellular</td>\n",
              "      <td>11</td>\n",
              "      <td>may</td>\n",
              "      <td>2</td>\n",
              "      <td>-1</td>\n",
              "      <td>0</td>\n",
              "      <td>unknown</td>\n",
              "      <td>no</td>\n",
              "      <td>20</td>\n",
              "    </tr>\n",
              "    <tr>\n",
              "      <th>1</th>\n",
              "      <td>22677</td>\n",
              "      <td>26</td>\n",
              "      <td>services</td>\n",
              "      <td>single</td>\n",
              "      <td>secondary</td>\n",
              "      <td>no</td>\n",
              "      <td>512</td>\n",
              "      <td>yes</td>\n",
              "      <td>yes</td>\n",
              "      <td>unknown</td>\n",
              "      <td>5</td>\n",
              "      <td>jun</td>\n",
              "      <td>3</td>\n",
              "      <td>-1</td>\n",
              "      <td>0</td>\n",
              "      <td>unknown</td>\n",
              "      <td>no</td>\n",
              "      <td>20</td>\n",
              "    </tr>\n",
              "    <tr>\n",
              "      <th>2</th>\n",
              "      <td>10541</td>\n",
              "      <td>30</td>\n",
              "      <td>management</td>\n",
              "      <td>single</td>\n",
              "      <td>secondary</td>\n",
              "      <td>no</td>\n",
              "      <td>135</td>\n",
              "      <td>no</td>\n",
              "      <td>no</td>\n",
              "      <td>cellular</td>\n",
              "      <td>14</td>\n",
              "      <td>aug</td>\n",
              "      <td>2</td>\n",
              "      <td>-1</td>\n",
              "      <td>0</td>\n",
              "      <td>unknown</td>\n",
              "      <td>no</td>\n",
              "      <td>30</td>\n",
              "    </tr>\n",
              "    <tr>\n",
              "      <th>3</th>\n",
              "      <td>13689</td>\n",
              "      <td>41</td>\n",
              "      <td>technician</td>\n",
              "      <td>married</td>\n",
              "      <td>unknown</td>\n",
              "      <td>no</td>\n",
              "      <td>30</td>\n",
              "      <td>yes</td>\n",
              "      <td>no</td>\n",
              "      <td>cellular</td>\n",
              "      <td>10</td>\n",
              "      <td>jul</td>\n",
              "      <td>1</td>\n",
              "      <td>-1</td>\n",
              "      <td>0</td>\n",
              "      <td>unknown</td>\n",
              "      <td>no</td>\n",
              "      <td>40</td>\n",
              "    </tr>\n",
              "    <tr>\n",
              "      <th>4</th>\n",
              "      <td>11304</td>\n",
              "      <td>27</td>\n",
              "      <td>admin.</td>\n",
              "      <td>single</td>\n",
              "      <td>secondary</td>\n",
              "      <td>no</td>\n",
              "      <td>321</td>\n",
              "      <td>no</td>\n",
              "      <td>yes</td>\n",
              "      <td>unknown</td>\n",
              "      <td>2</td>\n",
              "      <td>sep</td>\n",
              "      <td>1</td>\n",
              "      <td>-1</td>\n",
              "      <td>0</td>\n",
              "      <td>unknown</td>\n",
              "      <td>no</td>\n",
              "      <td>20</td>\n",
              "    </tr>\n",
              "    <tr>\n",
              "      <th>...</th>\n",
              "      <td>...</td>\n",
              "      <td>...</td>\n",
              "      <td>...</td>\n",
              "      <td>...</td>\n",
              "      <td>...</td>\n",
              "      <td>...</td>\n",
              "      <td>...</td>\n",
              "      <td>...</td>\n",
              "      <td>...</td>\n",
              "      <td>...</td>\n",
              "      <td>...</td>\n",
              "      <td>...</td>\n",
              "      <td>...</td>\n",
              "      <td>...</td>\n",
              "      <td>...</td>\n",
              "      <td>...</td>\n",
              "      <td>...</td>\n",
              "      <td>...</td>\n",
              "    </tr>\n",
              "    <tr>\n",
              "      <th>12865</th>\n",
              "      <td>14023</td>\n",
              "      <td>47</td>\n",
              "      <td>technician</td>\n",
              "      <td>married</td>\n",
              "      <td>secondary</td>\n",
              "      <td>no</td>\n",
              "      <td>1167</td>\n",
              "      <td>yes</td>\n",
              "      <td>no</td>\n",
              "      <td>cellular</td>\n",
              "      <td>30</td>\n",
              "      <td>apr</td>\n",
              "      <td>1</td>\n",
              "      <td>87</td>\n",
              "      <td>5</td>\n",
              "      <td>failure</td>\n",
              "      <td>yes</td>\n",
              "      <td>40</td>\n",
              "    </tr>\n",
              "    <tr>\n",
              "      <th>12866</th>\n",
              "      <td>17259</td>\n",
              "      <td>31</td>\n",
              "      <td>unknown</td>\n",
              "      <td>married</td>\n",
              "      <td>secondary</td>\n",
              "      <td>no</td>\n",
              "      <td>111</td>\n",
              "      <td>no</td>\n",
              "      <td>no</td>\n",
              "      <td>cellular</td>\n",
              "      <td>21</td>\n",
              "      <td>nov</td>\n",
              "      <td>2</td>\n",
              "      <td>93</td>\n",
              "      <td>2</td>\n",
              "      <td>failure</td>\n",
              "      <td>yes</td>\n",
              "      <td>30</td>\n",
              "    </tr>\n",
              "    <tr>\n",
              "      <th>12867</th>\n",
              "      <td>15200</td>\n",
              "      <td>37</td>\n",
              "      <td>unemployed</td>\n",
              "      <td>single</td>\n",
              "      <td>tertiary</td>\n",
              "      <td>no</td>\n",
              "      <td>1316</td>\n",
              "      <td>yes</td>\n",
              "      <td>no</td>\n",
              "      <td>cellular</td>\n",
              "      <td>18</td>\n",
              "      <td>nov</td>\n",
              "      <td>1</td>\n",
              "      <td>172</td>\n",
              "      <td>2</td>\n",
              "      <td>failure</td>\n",
              "      <td>no</td>\n",
              "      <td>30</td>\n",
              "    </tr>\n",
              "    <tr>\n",
              "      <th>12868</th>\n",
              "      <td>13775</td>\n",
              "      <td>42</td>\n",
              "      <td>management</td>\n",
              "      <td>married</td>\n",
              "      <td>tertiary</td>\n",
              "      <td>no</td>\n",
              "      <td>479</td>\n",
              "      <td>yes</td>\n",
              "      <td>no</td>\n",
              "      <td>unknown</td>\n",
              "      <td>28</td>\n",
              "      <td>may</td>\n",
              "      <td>2</td>\n",
              "      <td>-1</td>\n",
              "      <td>0</td>\n",
              "      <td>unknown</td>\n",
              "      <td>no</td>\n",
              "      <td>40</td>\n",
              "    </tr>\n",
              "    <tr>\n",
              "      <th>12869</th>\n",
              "      <td>20137</td>\n",
              "      <td>24</td>\n",
              "      <td>services</td>\n",
              "      <td>single</td>\n",
              "      <td>secondary</td>\n",
              "      <td>no</td>\n",
              "      <td>0</td>\n",
              "      <td>no</td>\n",
              "      <td>no</td>\n",
              "      <td>unknown</td>\n",
              "      <td>16</td>\n",
              "      <td>may</td>\n",
              "      <td>1</td>\n",
              "      <td>-1</td>\n",
              "      <td>0</td>\n",
              "      <td>unknown</td>\n",
              "      <td>no</td>\n",
              "      <td>20</td>\n",
              "    </tr>\n",
              "  </tbody>\n",
              "</table>\n",
              "<p>12870 rows × 18 columns</p>\n",
              "</div>\n",
              "      <button class=\"colab-df-convert\" onclick=\"convertToInteractive('df-fc308f84-14d1-4e7a-91ca-f5b71792ce55')\"\n",
              "              title=\"Convert this dataframe to an interactive table.\"\n",
              "              style=\"display:none;\">\n",
              "        \n",
              "  <svg xmlns=\"http://www.w3.org/2000/svg\" height=\"24px\"viewBox=\"0 0 24 24\"\n",
              "       width=\"24px\">\n",
              "    <path d=\"M0 0h24v24H0V0z\" fill=\"none\"/>\n",
              "    <path d=\"M18.56 5.44l.94 2.06.94-2.06 2.06-.94-2.06-.94-.94-2.06-.94 2.06-2.06.94zm-11 1L8.5 8.5l.94-2.06 2.06-.94-2.06-.94L8.5 2.5l-.94 2.06-2.06.94zm10 10l.94 2.06.94-2.06 2.06-.94-2.06-.94-.94-2.06-.94 2.06-2.06.94z\"/><path d=\"M17.41 7.96l-1.37-1.37c-.4-.4-.92-.59-1.43-.59-.52 0-1.04.2-1.43.59L10.3 9.45l-7.72 7.72c-.78.78-.78 2.05 0 2.83L4 21.41c.39.39.9.59 1.41.59.51 0 1.02-.2 1.41-.59l7.78-7.78 2.81-2.81c.8-.78.8-2.07 0-2.86zM5.41 20L4 18.59l7.72-7.72 1.47 1.35L5.41 20z\"/>\n",
              "  </svg>\n",
              "      </button>\n",
              "      \n",
              "  <style>\n",
              "    .colab-df-container {\n",
              "      display:flex;\n",
              "      flex-wrap:wrap;\n",
              "      gap: 12px;\n",
              "    }\n",
              "\n",
              "    .colab-df-convert {\n",
              "      background-color: #E8F0FE;\n",
              "      border: none;\n",
              "      border-radius: 50%;\n",
              "      cursor: pointer;\n",
              "      display: none;\n",
              "      fill: #1967D2;\n",
              "      height: 32px;\n",
              "      padding: 0 0 0 0;\n",
              "      width: 32px;\n",
              "    }\n",
              "\n",
              "    .colab-df-convert:hover {\n",
              "      background-color: #E2EBFA;\n",
              "      box-shadow: 0px 1px 2px rgba(60, 64, 67, 0.3), 0px 1px 3px 1px rgba(60, 64, 67, 0.15);\n",
              "      fill: #174EA6;\n",
              "    }\n",
              "\n",
              "    [theme=dark] .colab-df-convert {\n",
              "      background-color: #3B4455;\n",
              "      fill: #D2E3FC;\n",
              "    }\n",
              "\n",
              "    [theme=dark] .colab-df-convert:hover {\n",
              "      background-color: #434B5C;\n",
              "      box-shadow: 0px 1px 3px 1px rgba(0, 0, 0, 0.15);\n",
              "      filter: drop-shadow(0px 1px 2px rgba(0, 0, 0, 0.3));\n",
              "      fill: #FFFFFF;\n",
              "    }\n",
              "  </style>\n",
              "\n",
              "      <script>\n",
              "        const buttonEl =\n",
              "          document.querySelector('#df-fc308f84-14d1-4e7a-91ca-f5b71792ce55 button.colab-df-convert');\n",
              "        buttonEl.style.display =\n",
              "          google.colab.kernel.accessAllowed ? 'block' : 'none';\n",
              "\n",
              "        async function convertToInteractive(key) {\n",
              "          const element = document.querySelector('#df-fc308f84-14d1-4e7a-91ca-f5b71792ce55');\n",
              "          const dataTable =\n",
              "            await google.colab.kernel.invokeFunction('convertToInteractive',\n",
              "                                                     [key], {});\n",
              "          if (!dataTable) return;\n",
              "\n",
              "          const docLinkHtml = 'Like what you see? Visit the ' +\n",
              "            '<a target=\"_blank\" href=https://colab.research.google.com/notebooks/data_table.ipynb>data table notebook</a>'\n",
              "            + ' to learn more about interactive tables.';\n",
              "          element.innerHTML = '';\n",
              "          dataTable['output_type'] = 'display_data';\n",
              "          await google.colab.output.renderOutput(dataTable, element);\n",
              "          const docLink = document.createElement('div');\n",
              "          docLink.innerHTML = docLinkHtml;\n",
              "          element.appendChild(docLink);\n",
              "        }\n",
              "      </script>\n",
              "    </div>\n",
              "  </div>\n",
              "  "
            ]
          },
          "metadata": {},
          "execution_count": 18
        }
      ]
    },
    {
      "cell_type": "code",
      "source": [
        "v = pd.crosstab(df.y,df.education)"
      ],
      "metadata": {
        "id": "XIa2N7-zqG8_"
      },
      "execution_count": 19,
      "outputs": []
    },
    {
      "cell_type": "code",
      "source": [
        "v"
      ],
      "metadata": {
        "colab": {
          "base_uri": "https://localhost:8080/",
          "height": 143
        },
        "id": "z36OV4lLqLCh",
        "outputId": "03c756c5-5cf4-4880-f628-3b34ebc16995"
      },
      "execution_count": 20,
      "outputs": [
        {
          "output_type": "execute_result",
          "data": {
            "text/plain": [
              "education  primary  secondary  tertiary  unknown\n",
              "y                                               \n",
              "no            1424       4555      2559      365\n",
              "yes            456       1813      1516      182"
            ],
            "text/html": [
              "\n",
              "  <div id=\"df-3bf6be0f-dc51-4379-a2d2-77a18134bad7\">\n",
              "    <div class=\"colab-df-container\">\n",
              "      <div>\n",
              "<style scoped>\n",
              "    .dataframe tbody tr th:only-of-type {\n",
              "        vertical-align: middle;\n",
              "    }\n",
              "\n",
              "    .dataframe tbody tr th {\n",
              "        vertical-align: top;\n",
              "    }\n",
              "\n",
              "    .dataframe thead th {\n",
              "        text-align: right;\n",
              "    }\n",
              "</style>\n",
              "<table border=\"1\" class=\"dataframe\">\n",
              "  <thead>\n",
              "    <tr style=\"text-align: right;\">\n",
              "      <th>education</th>\n",
              "      <th>primary</th>\n",
              "      <th>secondary</th>\n",
              "      <th>tertiary</th>\n",
              "      <th>unknown</th>\n",
              "    </tr>\n",
              "    <tr>\n",
              "      <th>y</th>\n",
              "      <th></th>\n",
              "      <th></th>\n",
              "      <th></th>\n",
              "      <th></th>\n",
              "    </tr>\n",
              "  </thead>\n",
              "  <tbody>\n",
              "    <tr>\n",
              "      <th>no</th>\n",
              "      <td>1424</td>\n",
              "      <td>4555</td>\n",
              "      <td>2559</td>\n",
              "      <td>365</td>\n",
              "    </tr>\n",
              "    <tr>\n",
              "      <th>yes</th>\n",
              "      <td>456</td>\n",
              "      <td>1813</td>\n",
              "      <td>1516</td>\n",
              "      <td>182</td>\n",
              "    </tr>\n",
              "  </tbody>\n",
              "</table>\n",
              "</div>\n",
              "      <button class=\"colab-df-convert\" onclick=\"convertToInteractive('df-3bf6be0f-dc51-4379-a2d2-77a18134bad7')\"\n",
              "              title=\"Convert this dataframe to an interactive table.\"\n",
              "              style=\"display:none;\">\n",
              "        \n",
              "  <svg xmlns=\"http://www.w3.org/2000/svg\" height=\"24px\"viewBox=\"0 0 24 24\"\n",
              "       width=\"24px\">\n",
              "    <path d=\"M0 0h24v24H0V0z\" fill=\"none\"/>\n",
              "    <path d=\"M18.56 5.44l.94 2.06.94-2.06 2.06-.94-2.06-.94-.94-2.06-.94 2.06-2.06.94zm-11 1L8.5 8.5l.94-2.06 2.06-.94-2.06-.94L8.5 2.5l-.94 2.06-2.06.94zm10 10l.94 2.06.94-2.06 2.06-.94-2.06-.94-.94-2.06-.94 2.06-2.06.94z\"/><path d=\"M17.41 7.96l-1.37-1.37c-.4-.4-.92-.59-1.43-.59-.52 0-1.04.2-1.43.59L10.3 9.45l-7.72 7.72c-.78.78-.78 2.05 0 2.83L4 21.41c.39.39.9.59 1.41.59.51 0 1.02-.2 1.41-.59l7.78-7.78 2.81-2.81c.8-.78.8-2.07 0-2.86zM5.41 20L4 18.59l7.72-7.72 1.47 1.35L5.41 20z\"/>\n",
              "  </svg>\n",
              "      </button>\n",
              "      \n",
              "  <style>\n",
              "    .colab-df-container {\n",
              "      display:flex;\n",
              "      flex-wrap:wrap;\n",
              "      gap: 12px;\n",
              "    }\n",
              "\n",
              "    .colab-df-convert {\n",
              "      background-color: #E8F0FE;\n",
              "      border: none;\n",
              "      border-radius: 50%;\n",
              "      cursor: pointer;\n",
              "      display: none;\n",
              "      fill: #1967D2;\n",
              "      height: 32px;\n",
              "      padding: 0 0 0 0;\n",
              "      width: 32px;\n",
              "    }\n",
              "\n",
              "    .colab-df-convert:hover {\n",
              "      background-color: #E2EBFA;\n",
              "      box-shadow: 0px 1px 2px rgba(60, 64, 67, 0.3), 0px 1px 3px 1px rgba(60, 64, 67, 0.15);\n",
              "      fill: #174EA6;\n",
              "    }\n",
              "\n",
              "    [theme=dark] .colab-df-convert {\n",
              "      background-color: #3B4455;\n",
              "      fill: #D2E3FC;\n",
              "    }\n",
              "\n",
              "    [theme=dark] .colab-df-convert:hover {\n",
              "      background-color: #434B5C;\n",
              "      box-shadow: 0px 1px 3px 1px rgba(0, 0, 0, 0.15);\n",
              "      filter: drop-shadow(0px 1px 2px rgba(0, 0, 0, 0.3));\n",
              "      fill: #FFFFFF;\n",
              "    }\n",
              "  </style>\n",
              "\n",
              "      <script>\n",
              "        const buttonEl =\n",
              "          document.querySelector('#df-3bf6be0f-dc51-4379-a2d2-77a18134bad7 button.colab-df-convert');\n",
              "        buttonEl.style.display =\n",
              "          google.colab.kernel.accessAllowed ? 'block' : 'none';\n",
              "\n",
              "        async function convertToInteractive(key) {\n",
              "          const element = document.querySelector('#df-3bf6be0f-dc51-4379-a2d2-77a18134bad7');\n",
              "          const dataTable =\n",
              "            await google.colab.kernel.invokeFunction('convertToInteractive',\n",
              "                                                     [key], {});\n",
              "          if (!dataTable) return;\n",
              "\n",
              "          const docLinkHtml = 'Like what you see? Visit the ' +\n",
              "            '<a target=\"_blank\" href=https://colab.research.google.com/notebooks/data_table.ipynb>data table notebook</a>'\n",
              "            + ' to learn more about interactive tables.';\n",
              "          element.innerHTML = '';\n",
              "          dataTable['output_type'] = 'display_data';\n",
              "          await google.colab.output.renderOutput(dataTable, element);\n",
              "          const docLink = document.createElement('div');\n",
              "          docLink.innerHTML = docLinkHtml;\n",
              "          element.appendChild(docLink);\n",
              "        }\n",
              "      </script>\n",
              "    </div>\n",
              "  </div>\n",
              "  "
            ]
          },
          "metadata": {},
          "execution_count": 20
        }
      ]
    },
    {
      "cell_type": "code",
      "source": [
        "from scipy.stats import chi2_contingency\n",
        "# 독립성 검정을 위한 카이제곱검정\n",
        "chi2 , p ,dof, expected = chi2_contingency(v)\n",
        "# chi2 : (실수) 테스트 통계\n",
        "# p : (실수) 검정의 p-value\n",
        "# dof : (정수) 자유도\n",
        "# expected : (ndarray) 예상빈도\n",
        "print(p)"
      ],
      "metadata": {
        "colab": {
          "base_uri": "https://localhost:8080/"
        },
        "id": "-3KAFdUFqRjs",
        "outputId": "2018c91c-d98c-452c-f1d1-89e859bdb830"
      },
      "execution_count": 21,
      "outputs": [
        {
          "output_type": "stream",
          "name": "stdout",
          "text": [
            "7.901201277473551e-29\n"
          ]
        }
      ]
    },
    {
      "cell_type": "markdown",
      "source": [
        "각 job에 따라 divorced/married 인원의 비율을 확인 했을 때 그 값이 가장 높은 값은?"
      ],
      "metadata": {
        "id": "MMGVwo56rXXk"
      }
    },
    {
      "cell_type": "code",
      "source": [
        "t = df.groupby(['job','marital']).size().reset_index()\n",
        "pivotdf = t.pivot_table(index='job',columns='marital')[0]\n",
        "pivotdf = pivotdf.fillna(0)\n",
        "pivotdf['ratio'] = pivotdf['divorced'] / pivotdf['married']\n",
        "\n",
        "result = pivotdf.sort_values('ratio').ratio.values[-1]\n",
        "print(result)"
      ],
      "metadata": {
        "colab": {
          "base_uri": "https://localhost:8080/"
        },
        "id": "jXbb49_xsMwl",
        "outputId": "caccabaa-1f7c-4f97-805b-33105d8b5d77"
      },
      "execution_count": 22,
      "outputs": [
        {
          "output_type": "stream",
          "name": "stdout",
          "text": [
            "0.2831050228310502\n"
          ]
        }
      ]
    },
    {
      "cell_type": "code",
      "source": [
        "t = df.groupby(['job','marital']).size().reset_index()"
      ],
      "metadata": {
        "id": "EMqJeQ6xrYCk"
      },
      "execution_count": 23,
      "outputs": []
    },
    {
      "cell_type": "code",
      "source": [
        "pivotdf = t.pivot_table(index='job',columns='marital')[0]\n",
        "pivotdf = pivotdf.fillna(0)\n",
        "pivotdf"
      ],
      "metadata": {
        "colab": {
          "base_uri": "https://localhost:8080/",
          "height": 457
        },
        "id": "jrO62hzcr5SI",
        "outputId": "5d8ca453-4fd2-454b-b227-ddd5597a2aee"
      },
      "execution_count": 24,
      "outputs": [
        {
          "output_type": "execute_result",
          "data": {
            "text/plain": [
              "marital        divorced  married  single\n",
              "job                                     \n",
              "admin.            207.0    762.0   495.0\n",
              "blue-collar       205.0   1775.0   591.0\n",
              "entrepreneur       44.0    272.0    67.0\n",
              "housemaid          49.0    245.0    40.0\n",
              "management        323.0   1580.0   955.0\n",
              "retired           157.0    572.0    41.0\n",
              "self-employed      39.0    284.0   131.0\n",
              "services          138.0    584.0   321.0\n",
              "student             0.0     24.0   334.0\n",
              "technician        246.0   1115.0   780.0\n",
              "unemployed         62.0    219.0   133.0\n",
              "unknown             5.0     58.0    17.0"
            ],
            "text/html": [
              "\n",
              "  <div id=\"df-1003ce23-304b-4012-be42-786259747629\">\n",
              "    <div class=\"colab-df-container\">\n",
              "      <div>\n",
              "<style scoped>\n",
              "    .dataframe tbody tr th:only-of-type {\n",
              "        vertical-align: middle;\n",
              "    }\n",
              "\n",
              "    .dataframe tbody tr th {\n",
              "        vertical-align: top;\n",
              "    }\n",
              "\n",
              "    .dataframe thead th {\n",
              "        text-align: right;\n",
              "    }\n",
              "</style>\n",
              "<table border=\"1\" class=\"dataframe\">\n",
              "  <thead>\n",
              "    <tr style=\"text-align: right;\">\n",
              "      <th>marital</th>\n",
              "      <th>divorced</th>\n",
              "      <th>married</th>\n",
              "      <th>single</th>\n",
              "    </tr>\n",
              "    <tr>\n",
              "      <th>job</th>\n",
              "      <th></th>\n",
              "      <th></th>\n",
              "      <th></th>\n",
              "    </tr>\n",
              "  </thead>\n",
              "  <tbody>\n",
              "    <tr>\n",
              "      <th>admin.</th>\n",
              "      <td>207.0</td>\n",
              "      <td>762.0</td>\n",
              "      <td>495.0</td>\n",
              "    </tr>\n",
              "    <tr>\n",
              "      <th>blue-collar</th>\n",
              "      <td>205.0</td>\n",
              "      <td>1775.0</td>\n",
              "      <td>591.0</td>\n",
              "    </tr>\n",
              "    <tr>\n",
              "      <th>entrepreneur</th>\n",
              "      <td>44.0</td>\n",
              "      <td>272.0</td>\n",
              "      <td>67.0</td>\n",
              "    </tr>\n",
              "    <tr>\n",
              "      <th>housemaid</th>\n",
              "      <td>49.0</td>\n",
              "      <td>245.0</td>\n",
              "      <td>40.0</td>\n",
              "    </tr>\n",
              "    <tr>\n",
              "      <th>management</th>\n",
              "      <td>323.0</td>\n",
              "      <td>1580.0</td>\n",
              "      <td>955.0</td>\n",
              "    </tr>\n",
              "    <tr>\n",
              "      <th>retired</th>\n",
              "      <td>157.0</td>\n",
              "      <td>572.0</td>\n",
              "      <td>41.0</td>\n",
              "    </tr>\n",
              "    <tr>\n",
              "      <th>self-employed</th>\n",
              "      <td>39.0</td>\n",
              "      <td>284.0</td>\n",
              "      <td>131.0</td>\n",
              "    </tr>\n",
              "    <tr>\n",
              "      <th>services</th>\n",
              "      <td>138.0</td>\n",
              "      <td>584.0</td>\n",
              "      <td>321.0</td>\n",
              "    </tr>\n",
              "    <tr>\n",
              "      <th>student</th>\n",
              "      <td>0.0</td>\n",
              "      <td>24.0</td>\n",
              "      <td>334.0</td>\n",
              "    </tr>\n",
              "    <tr>\n",
              "      <th>technician</th>\n",
              "      <td>246.0</td>\n",
              "      <td>1115.0</td>\n",
              "      <td>780.0</td>\n",
              "    </tr>\n",
              "    <tr>\n",
              "      <th>unemployed</th>\n",
              "      <td>62.0</td>\n",
              "      <td>219.0</td>\n",
              "      <td>133.0</td>\n",
              "    </tr>\n",
              "    <tr>\n",
              "      <th>unknown</th>\n",
              "      <td>5.0</td>\n",
              "      <td>58.0</td>\n",
              "      <td>17.0</td>\n",
              "    </tr>\n",
              "  </tbody>\n",
              "</table>\n",
              "</div>\n",
              "      <button class=\"colab-df-convert\" onclick=\"convertToInteractive('df-1003ce23-304b-4012-be42-786259747629')\"\n",
              "              title=\"Convert this dataframe to an interactive table.\"\n",
              "              style=\"display:none;\">\n",
              "        \n",
              "  <svg xmlns=\"http://www.w3.org/2000/svg\" height=\"24px\"viewBox=\"0 0 24 24\"\n",
              "       width=\"24px\">\n",
              "    <path d=\"M0 0h24v24H0V0z\" fill=\"none\"/>\n",
              "    <path d=\"M18.56 5.44l.94 2.06.94-2.06 2.06-.94-2.06-.94-.94-2.06-.94 2.06-2.06.94zm-11 1L8.5 8.5l.94-2.06 2.06-.94-2.06-.94L8.5 2.5l-.94 2.06-2.06.94zm10 10l.94 2.06.94-2.06 2.06-.94-2.06-.94-.94-2.06-.94 2.06-2.06.94z\"/><path d=\"M17.41 7.96l-1.37-1.37c-.4-.4-.92-.59-1.43-.59-.52 0-1.04.2-1.43.59L10.3 9.45l-7.72 7.72c-.78.78-.78 2.05 0 2.83L4 21.41c.39.39.9.59 1.41.59.51 0 1.02-.2 1.41-.59l7.78-7.78 2.81-2.81c.8-.78.8-2.07 0-2.86zM5.41 20L4 18.59l7.72-7.72 1.47 1.35L5.41 20z\"/>\n",
              "  </svg>\n",
              "      </button>\n",
              "      \n",
              "  <style>\n",
              "    .colab-df-container {\n",
              "      display:flex;\n",
              "      flex-wrap:wrap;\n",
              "      gap: 12px;\n",
              "    }\n",
              "\n",
              "    .colab-df-convert {\n",
              "      background-color: #E8F0FE;\n",
              "      border: none;\n",
              "      border-radius: 50%;\n",
              "      cursor: pointer;\n",
              "      display: none;\n",
              "      fill: #1967D2;\n",
              "      height: 32px;\n",
              "      padding: 0 0 0 0;\n",
              "      width: 32px;\n",
              "    }\n",
              "\n",
              "    .colab-df-convert:hover {\n",
              "      background-color: #E2EBFA;\n",
              "      box-shadow: 0px 1px 2px rgba(60, 64, 67, 0.3), 0px 1px 3px 1px rgba(60, 64, 67, 0.15);\n",
              "      fill: #174EA6;\n",
              "    }\n",
              "\n",
              "    [theme=dark] .colab-df-convert {\n",
              "      background-color: #3B4455;\n",
              "      fill: #D2E3FC;\n",
              "    }\n",
              "\n",
              "    [theme=dark] .colab-df-convert:hover {\n",
              "      background-color: #434B5C;\n",
              "      box-shadow: 0px 1px 3px 1px rgba(0, 0, 0, 0.15);\n",
              "      filter: drop-shadow(0px 1px 2px rgba(0, 0, 0, 0.3));\n",
              "      fill: #FFFFFF;\n",
              "    }\n",
              "  </style>\n",
              "\n",
              "      <script>\n",
              "        const buttonEl =\n",
              "          document.querySelector('#df-1003ce23-304b-4012-be42-786259747629 button.colab-df-convert');\n",
              "        buttonEl.style.display =\n",
              "          google.colab.kernel.accessAllowed ? 'block' : 'none';\n",
              "\n",
              "        async function convertToInteractive(key) {\n",
              "          const element = document.querySelector('#df-1003ce23-304b-4012-be42-786259747629');\n",
              "          const dataTable =\n",
              "            await google.colab.kernel.invokeFunction('convertToInteractive',\n",
              "                                                     [key], {});\n",
              "          if (!dataTable) return;\n",
              "\n",
              "          const docLinkHtml = 'Like what you see? Visit the ' +\n",
              "            '<a target=\"_blank\" href=https://colab.research.google.com/notebooks/data_table.ipynb>data table notebook</a>'\n",
              "            + ' to learn more about interactive tables.';\n",
              "          element.innerHTML = '';\n",
              "          dataTable['output_type'] = 'display_data';\n",
              "          await google.colab.output.renderOutput(dataTable, element);\n",
              "          const docLink = document.createElement('div');\n",
              "          docLink.innerHTML = docLinkHtml;\n",
              "          element.appendChild(docLink);\n",
              "        }\n",
              "      </script>\n",
              "    </div>\n",
              "  </div>\n",
              "  "
            ]
          },
          "metadata": {},
          "execution_count": 24
        }
      ]
    },
    {
      "cell_type": "code",
      "source": [
        "pivotdf['ratio'] = pivotdf['divorced'] / pivotdf['married']"
      ],
      "metadata": {
        "id": "UGCBS4Z5swzE"
      },
      "execution_count": 25,
      "outputs": []
    },
    {
      "cell_type": "code",
      "source": [
        "pivotdf.sort_values('ratio').ratio.values[-1]"
      ],
      "metadata": {
        "colab": {
          "base_uri": "https://localhost:8080/"
        },
        "id": "JUFMbSgns4gq",
        "outputId": "b64122d2-0549-43ff-d489-df30f2874d11"
      },
      "execution_count": 26,
      "outputs": [
        {
          "output_type": "execute_result",
          "data": {
            "text/plain": [
              "0.2831050228310502"
            ]
          },
          "metadata": {},
          "execution_count": 26
        }
      ]
    },
    {
      "cell_type": "markdown",
      "source": [
        "# 1유형-2"
      ],
      "metadata": {
        "id": "L7HiB0WCrTRb"
      }
    },
    {
      "cell_type": "markdown",
      "source": [
        "[캘리포니아 집값 데이터] 데이터의 결측값을 제거한 후, 처음부터 순서대로 70%를 추출하여 특정 변수의 Q1 값 구하기 "
      ],
      "metadata": {
        "id": "gshQi_r-sEOa"
      }
    },
    {
      "cell_type": "code",
      "source": [
        "import pandas as pd\n",
        "import numpy as np"
      ],
      "metadata": {
        "id": "zjrsITSqsR7W"
      },
      "execution_count": 27,
      "outputs": []
    },
    {
      "cell_type": "code",
      "source": [
        "data ='/content/housing.csv'\n",
        "df = pd.read_csv(data)"
      ],
      "metadata": {
        "id": "JQbb8iOOsD_v"
      },
      "execution_count": 28,
      "outputs": []
    },
    {
      "cell_type": "code",
      "source": [
        "df.info()"
      ],
      "metadata": {
        "colab": {
          "base_uri": "https://localhost:8080/"
        },
        "id": "KqzHYc79rVP0",
        "outputId": "e293cdd8-e64e-466f-ca59-ef2ec1ca8f94"
      },
      "execution_count": 29,
      "outputs": [
        {
          "output_type": "stream",
          "name": "stdout",
          "text": [
            "<class 'pandas.core.frame.DataFrame'>\n",
            "RangeIndex: 20640 entries, 0 to 20639\n",
            "Data columns (total 10 columns):\n",
            " #   Column              Non-Null Count  Dtype  \n",
            "---  ------              --------------  -----  \n",
            " 0   longitude           20640 non-null  float64\n",
            " 1   latitude            20640 non-null  float64\n",
            " 2   housing_median_age  20640 non-null  float64\n",
            " 3   total_rooms         20640 non-null  float64\n",
            " 4   total_bedrooms      20433 non-null  float64\n",
            " 5   population          20640 non-null  float64\n",
            " 6   households          20640 non-null  float64\n",
            " 7   median_income       20640 non-null  float64\n",
            " 8   median_house_value  20640 non-null  float64\n",
            " 9   ocean_proximity     20640 non-null  object \n",
            "dtypes: float64(9), object(1)\n",
            "memory usage: 1.6+ MB\n"
          ]
        }
      ]
    },
    {
      "cell_type": "code",
      "source": [
        "df.isnull().sum()"
      ],
      "metadata": {
        "colab": {
          "base_uri": "https://localhost:8080/"
        },
        "id": "YUralCSxrVNw",
        "outputId": "b4fb27ee-7d65-485b-b2fc-772943a60124"
      },
      "execution_count": 30,
      "outputs": [
        {
          "output_type": "execute_result",
          "data": {
            "text/plain": [
              "longitude               0\n",
              "latitude                0\n",
              "housing_median_age      0\n",
              "total_rooms             0\n",
              "total_bedrooms        207\n",
              "population              0\n",
              "households              0\n",
              "median_income           0\n",
              "median_house_value      0\n",
              "ocean_proximity         0\n",
              "dtype: int64"
            ]
          },
          "metadata": {},
          "execution_count": 30
        }
      ]
    },
    {
      "cell_type": "code",
      "source": [
        "df.dropna(inplace=True)\n",
        "# inplace = True/False\n",
        "# True -> dropna가 적용된 DataFrame 자체에 dropna를 적용\n",
        "# False -> dropna가 적용된 DataFrame는 그대로 두고 dropna를 적용한 DataFrame을 return"
      ],
      "metadata": {
        "id": "qIjQgAlYrVLj"
      },
      "execution_count": 31,
      "outputs": []
    },
    {
      "cell_type": "code",
      "source": [
        "# 70%만 추출하기\n",
        "\n",
        "train = df.iloc[:int(df.shape[0]*0.7)]\n",
        "# df.shape = 20640 / 10 \n",
        "# df.shape[0] = 20640\n",
        "# 20640 * 0.7 (70%) = 14303\n",
        "# int 정수로 변환\n",
        "# [:int(df.shape[0]*0.7)] 0부터 14303까지\n",
        "# iloc = 행을 찾아주세요"
      ],
      "metadata": {
        "id": "N4boOyPJtGiR"
      },
      "execution_count": 32,
      "outputs": []
    },
    {
      "cell_type": "code",
      "source": [
        "# Q1 (이상치의 q1)\n",
        "result = np.percentile(train['housing_median_age'],25)"
      ],
      "metadata": {
        "id": "2PaIKdhnt_IP"
      },
      "execution_count": 33,
      "outputs": []
    },
    {
      "cell_type": "code",
      "source": [
        "print(int(result))"
      ],
      "metadata": {
        "colab": {
          "base_uri": "https://localhost:8080/"
        },
        "id": "VFPTKdIvum7g",
        "outputId": "9f3dcb64-8bc6-41a8-8c56-ac9a1c963149"
      },
      "execution_count": 34,
      "outputs": [
        {
          "output_type": "stream",
          "name": "stdout",
          "text": [
            "19\n"
          ]
        }
      ]
    },
    {
      "cell_type": "code",
      "source": [
        "data = '/content/healthcare-dataset-stroke-data.csv'"
      ],
      "metadata": {
        "id": "ORCSwwVSwg2n"
      },
      "execution_count": 35,
      "outputs": []
    },
    {
      "cell_type": "code",
      "source": [
        "df=pd.read_csv(data)"
      ],
      "metadata": {
        "id": "b1Pjn49GwjnD"
      },
      "execution_count": 52,
      "outputs": []
    },
    {
      "cell_type": "code",
      "source": [
        "df.info()"
      ],
      "metadata": {
        "colab": {
          "base_uri": "https://localhost:8080/"
        },
        "id": "GwRGlrz0xG93",
        "outputId": "517eba18-d878-4307-a31a-edad97eae135"
      },
      "execution_count": 37,
      "outputs": [
        {
          "output_type": "stream",
          "name": "stdout",
          "text": [
            "<class 'pandas.core.frame.DataFrame'>\n",
            "RangeIndex: 5110 entries, 0 to 5109\n",
            "Data columns (total 12 columns):\n",
            " #   Column             Non-Null Count  Dtype  \n",
            "---  ------             --------------  -----  \n",
            " 0   id                 5110 non-null   int64  \n",
            " 1   gender             5110 non-null   object \n",
            " 2   age                5110 non-null   float64\n",
            " 3   hypertension       5110 non-null   int64  \n",
            " 4   heart_disease      5110 non-null   int64  \n",
            " 5   ever_married       5110 non-null   object \n",
            " 6   work_type          5110 non-null   object \n",
            " 7   Residence_type     5110 non-null   object \n",
            " 8   avg_glucose_level  5110 non-null   float64\n",
            " 9   bmi                4909 non-null   float64\n",
            " 10  smoking_status     5110 non-null   object \n",
            " 11  stroke             5110 non-null   int64  \n",
            "dtypes: float64(3), int64(4), object(5)\n",
            "memory usage: 479.2+ KB\n"
          ]
        }
      ]
    },
    {
      "cell_type": "markdown",
      "source": [
        "성별이 Male인 환자들의 age의 평균값은 ?"
      ],
      "metadata": {
        "id": "LE6RnTYAxLCo"
      }
    },
    {
      "cell_type": "code",
      "source": [
        "df.head()"
      ],
      "metadata": {
        "colab": {
          "base_uri": "https://localhost:8080/",
          "height": 206
        },
        "id": "Mus3BlwqxK6m",
        "outputId": "26f9eff8-df0b-4b7e-9b41-84f1a3b812e7"
      },
      "execution_count": 38,
      "outputs": [
        {
          "output_type": "execute_result",
          "data": {
            "text/plain": [
              "      id  gender   age  hypertension  heart_disease ever_married  \\\n",
              "0   9046    Male  67.0             0              1          Yes   \n",
              "1  51676  Female  61.0             0              0          Yes   \n",
              "2  31112    Male  80.0             0              1          Yes   \n",
              "3  60182  Female  49.0             0              0          Yes   \n",
              "4   1665  Female  79.0             1              0          Yes   \n",
              "\n",
              "       work_type Residence_type  avg_glucose_level   bmi   smoking_status  \\\n",
              "0        Private          Urban             228.69  36.6  formerly smoked   \n",
              "1  Self-employed          Rural             202.21   NaN     never smoked   \n",
              "2        Private          Rural             105.92  32.5     never smoked   \n",
              "3        Private          Urban             171.23  34.4           smokes   \n",
              "4  Self-employed          Rural             174.12  24.0     never smoked   \n",
              "\n",
              "   stroke  \n",
              "0       1  \n",
              "1       1  \n",
              "2       1  \n",
              "3       1  \n",
              "4       1  "
            ],
            "text/html": [
              "\n",
              "  <div id=\"df-64777002-fef0-4502-a26f-c22babbc37e5\">\n",
              "    <div class=\"colab-df-container\">\n",
              "      <div>\n",
              "<style scoped>\n",
              "    .dataframe tbody tr th:only-of-type {\n",
              "        vertical-align: middle;\n",
              "    }\n",
              "\n",
              "    .dataframe tbody tr th {\n",
              "        vertical-align: top;\n",
              "    }\n",
              "\n",
              "    .dataframe thead th {\n",
              "        text-align: right;\n",
              "    }\n",
              "</style>\n",
              "<table border=\"1\" class=\"dataframe\">\n",
              "  <thead>\n",
              "    <tr style=\"text-align: right;\">\n",
              "      <th></th>\n",
              "      <th>id</th>\n",
              "      <th>gender</th>\n",
              "      <th>age</th>\n",
              "      <th>hypertension</th>\n",
              "      <th>heart_disease</th>\n",
              "      <th>ever_married</th>\n",
              "      <th>work_type</th>\n",
              "      <th>Residence_type</th>\n",
              "      <th>avg_glucose_level</th>\n",
              "      <th>bmi</th>\n",
              "      <th>smoking_status</th>\n",
              "      <th>stroke</th>\n",
              "    </tr>\n",
              "  </thead>\n",
              "  <tbody>\n",
              "    <tr>\n",
              "      <th>0</th>\n",
              "      <td>9046</td>\n",
              "      <td>Male</td>\n",
              "      <td>67.0</td>\n",
              "      <td>0</td>\n",
              "      <td>1</td>\n",
              "      <td>Yes</td>\n",
              "      <td>Private</td>\n",
              "      <td>Urban</td>\n",
              "      <td>228.69</td>\n",
              "      <td>36.6</td>\n",
              "      <td>formerly smoked</td>\n",
              "      <td>1</td>\n",
              "    </tr>\n",
              "    <tr>\n",
              "      <th>1</th>\n",
              "      <td>51676</td>\n",
              "      <td>Female</td>\n",
              "      <td>61.0</td>\n",
              "      <td>0</td>\n",
              "      <td>0</td>\n",
              "      <td>Yes</td>\n",
              "      <td>Self-employed</td>\n",
              "      <td>Rural</td>\n",
              "      <td>202.21</td>\n",
              "      <td>NaN</td>\n",
              "      <td>never smoked</td>\n",
              "      <td>1</td>\n",
              "    </tr>\n",
              "    <tr>\n",
              "      <th>2</th>\n",
              "      <td>31112</td>\n",
              "      <td>Male</td>\n",
              "      <td>80.0</td>\n",
              "      <td>0</td>\n",
              "      <td>1</td>\n",
              "      <td>Yes</td>\n",
              "      <td>Private</td>\n",
              "      <td>Rural</td>\n",
              "      <td>105.92</td>\n",
              "      <td>32.5</td>\n",
              "      <td>never smoked</td>\n",
              "      <td>1</td>\n",
              "    </tr>\n",
              "    <tr>\n",
              "      <th>3</th>\n",
              "      <td>60182</td>\n",
              "      <td>Female</td>\n",
              "      <td>49.0</td>\n",
              "      <td>0</td>\n",
              "      <td>0</td>\n",
              "      <td>Yes</td>\n",
              "      <td>Private</td>\n",
              "      <td>Urban</td>\n",
              "      <td>171.23</td>\n",
              "      <td>34.4</td>\n",
              "      <td>smokes</td>\n",
              "      <td>1</td>\n",
              "    </tr>\n",
              "    <tr>\n",
              "      <th>4</th>\n",
              "      <td>1665</td>\n",
              "      <td>Female</td>\n",
              "      <td>79.0</td>\n",
              "      <td>1</td>\n",
              "      <td>0</td>\n",
              "      <td>Yes</td>\n",
              "      <td>Self-employed</td>\n",
              "      <td>Rural</td>\n",
              "      <td>174.12</td>\n",
              "      <td>24.0</td>\n",
              "      <td>never smoked</td>\n",
              "      <td>1</td>\n",
              "    </tr>\n",
              "  </tbody>\n",
              "</table>\n",
              "</div>\n",
              "      <button class=\"colab-df-convert\" onclick=\"convertToInteractive('df-64777002-fef0-4502-a26f-c22babbc37e5')\"\n",
              "              title=\"Convert this dataframe to an interactive table.\"\n",
              "              style=\"display:none;\">\n",
              "        \n",
              "  <svg xmlns=\"http://www.w3.org/2000/svg\" height=\"24px\"viewBox=\"0 0 24 24\"\n",
              "       width=\"24px\">\n",
              "    <path d=\"M0 0h24v24H0V0z\" fill=\"none\"/>\n",
              "    <path d=\"M18.56 5.44l.94 2.06.94-2.06 2.06-.94-2.06-.94-.94-2.06-.94 2.06-2.06.94zm-11 1L8.5 8.5l.94-2.06 2.06-.94-2.06-.94L8.5 2.5l-.94 2.06-2.06.94zm10 10l.94 2.06.94-2.06 2.06-.94-2.06-.94-.94-2.06-.94 2.06-2.06.94z\"/><path d=\"M17.41 7.96l-1.37-1.37c-.4-.4-.92-.59-1.43-.59-.52 0-1.04.2-1.43.59L10.3 9.45l-7.72 7.72c-.78.78-.78 2.05 0 2.83L4 21.41c.39.39.9.59 1.41.59.51 0 1.02-.2 1.41-.59l7.78-7.78 2.81-2.81c.8-.78.8-2.07 0-2.86zM5.41 20L4 18.59l7.72-7.72 1.47 1.35L5.41 20z\"/>\n",
              "  </svg>\n",
              "      </button>\n",
              "      \n",
              "  <style>\n",
              "    .colab-df-container {\n",
              "      display:flex;\n",
              "      flex-wrap:wrap;\n",
              "      gap: 12px;\n",
              "    }\n",
              "\n",
              "    .colab-df-convert {\n",
              "      background-color: #E8F0FE;\n",
              "      border: none;\n",
              "      border-radius: 50%;\n",
              "      cursor: pointer;\n",
              "      display: none;\n",
              "      fill: #1967D2;\n",
              "      height: 32px;\n",
              "      padding: 0 0 0 0;\n",
              "      width: 32px;\n",
              "    }\n",
              "\n",
              "    .colab-df-convert:hover {\n",
              "      background-color: #E2EBFA;\n",
              "      box-shadow: 0px 1px 2px rgba(60, 64, 67, 0.3), 0px 1px 3px 1px rgba(60, 64, 67, 0.15);\n",
              "      fill: #174EA6;\n",
              "    }\n",
              "\n",
              "    [theme=dark] .colab-df-convert {\n",
              "      background-color: #3B4455;\n",
              "      fill: #D2E3FC;\n",
              "    }\n",
              "\n",
              "    [theme=dark] .colab-df-convert:hover {\n",
              "      background-color: #434B5C;\n",
              "      box-shadow: 0px 1px 3px 1px rgba(0, 0, 0, 0.15);\n",
              "      filter: drop-shadow(0px 1px 2px rgba(0, 0, 0, 0.3));\n",
              "      fill: #FFFFFF;\n",
              "    }\n",
              "  </style>\n",
              "\n",
              "      <script>\n",
              "        const buttonEl =\n",
              "          document.querySelector('#df-64777002-fef0-4502-a26f-c22babbc37e5 button.colab-df-convert');\n",
              "        buttonEl.style.display =\n",
              "          google.colab.kernel.accessAllowed ? 'block' : 'none';\n",
              "\n",
              "        async function convertToInteractive(key) {\n",
              "          const element = document.querySelector('#df-64777002-fef0-4502-a26f-c22babbc37e5');\n",
              "          const dataTable =\n",
              "            await google.colab.kernel.invokeFunction('convertToInteractive',\n",
              "                                                     [key], {});\n",
              "          if (!dataTable) return;\n",
              "\n",
              "          const docLinkHtml = 'Like what you see? Visit the ' +\n",
              "            '<a target=\"_blank\" href=https://colab.research.google.com/notebooks/data_table.ipynb>data table notebook</a>'\n",
              "            + ' to learn more about interactive tables.';\n",
              "          element.innerHTML = '';\n",
              "          dataTable['output_type'] = 'display_data';\n",
              "          await google.colab.output.renderOutput(dataTable, element);\n",
              "          const docLink = document.createElement('div');\n",
              "          docLink.innerHTML = docLinkHtml;\n",
              "          element.appendChild(docLink);\n",
              "        }\n",
              "      </script>\n",
              "    </div>\n",
              "  </div>\n",
              "  "
            ]
          },
          "metadata": {},
          "execution_count": 38
        }
      ]
    },
    {
      "cell_type": "code",
      "source": [
        "df1 = df.copy()"
      ],
      "metadata": {
        "id": "0zB4rQApyyDj"
      },
      "execution_count": 39,
      "outputs": []
    },
    {
      "cell_type": "code",
      "source": [
        "df[df['gender']=='Male']['age'].mean()"
      ],
      "metadata": {
        "colab": {
          "base_uri": "https://localhost:8080/"
        },
        "id": "p6fbKrXhxViI",
        "outputId": "9ccf08ce-7d42-47b0-abd3-dbc0fbfe4eb8"
      },
      "execution_count": 40,
      "outputs": [
        {
          "output_type": "execute_result",
          "data": {
            "text/plain": [
              "42.48338534278962"
            ]
          },
          "metadata": {},
          "execution_count": 40
        }
      ]
    },
    {
      "cell_type": "markdown",
      "source": [
        "bmi컬럼의 결측치를 bmi컬럼의 결측치를 제외한 나머지 값들의 중앙값으로 채웠을 경우 bmi 컬럼의 평균을 소숫점 이하 3자리 까지 구하여라"
      ],
      "metadata": {
        "id": "rOYJe1PbyOnw"
      }
    },
    {
      "cell_type": "code",
      "source": [
        "fi = df['bmi'].fillna(df['bmi'].median())"
      ],
      "metadata": {
        "id": "6WGZa0pkyJxR"
      },
      "execution_count": 41,
      "outputs": []
    },
    {
      "cell_type": "code",
      "source": [
        "print(round(fi.mean(),3))"
      ],
      "metadata": {
        "colab": {
          "base_uri": "https://localhost:8080/"
        },
        "id": "xQUK5ms3ydTM",
        "outputId": "36c69d94-7d59-4300-d989-d992eec14085"
      },
      "execution_count": 42,
      "outputs": [
        {
          "output_type": "stream",
          "name": "stdout",
          "text": [
            "28.862\n"
          ]
        }
      ]
    },
    {
      "cell_type": "markdown",
      "source": [
        "bmi컬럼의 각 결측치들을 직전의 행의 bmi값으로 채웠을 경우 bmi 컬럼의 평균을 소숫점 이하 3자리 까지 구하여라"
      ],
      "metadata": {
        "id": "4jbFaw9UypVI"
      }
    },
    {
      "cell_type": "code",
      "source": [
        "fa = df1['bmi'].fillna(method='ffill')"
      ],
      "metadata": {
        "id": "h5wRClRzypqn"
      },
      "execution_count": 43,
      "outputs": []
    },
    {
      "cell_type": "code",
      "source": [
        "round(fa.mean(),3)"
      ],
      "metadata": {
        "colab": {
          "base_uri": "https://localhost:8080/"
        },
        "id": "UQ2efJq8zHOK",
        "outputId": "f3848422-d0dc-4207-df79-0bfc3c25bf3f"
      },
      "execution_count": 44,
      "outputs": [
        {
          "output_type": "execute_result",
          "data": {
            "text/plain": [
              "28.925"
            ]
          },
          "metadata": {},
          "execution_count": 44
        }
      ]
    },
    {
      "cell_type": "markdown",
      "source": [
        "bmi컬럼의 각 결측치들을 결측치를 가진 환자 나이대(10단위)의 평균 bmi 값으로 대체한 후 대체된 bmi 컬럼의 평균을 소숫점 이하 3자리 까지 구하여라"
      ],
      "metadata": {
        "id": "N9FXK2X6zPf7"
      }
    },
    {
      "cell_type": "code",
      "source": [
        "mean = df[df.bmi.notnull()].groupby(df.age//10* 10).bmi.mean()"
      ],
      "metadata": {
        "id": "efHkOyJhzHL1"
      },
      "execution_count": 45,
      "outputs": []
    },
    {
      "cell_type": "code",
      "source": [
        "mean"
      ],
      "metadata": {
        "colab": {
          "base_uri": "https://localhost:8080/"
        },
        "id": "aFEeeYaZzHJc",
        "outputId": "ceec46d3-bbb7-4891-f204-be8f7e0d1080"
      },
      "execution_count": 46,
      "outputs": [
        {
          "output_type": "execute_result",
          "data": {
            "text/plain": [
              "age\n",
              "0.0     18.869935\n",
              "10.0    24.906598\n",
              "20.0    28.136920\n",
              "30.0    31.205864\n",
              "40.0    31.446099\n",
              "50.0    31.750435\n",
              "60.0    31.004068\n",
              "70.0    29.378168\n",
              "80.0    28.281319\n",
              "Name: bmi, dtype: float64"
            ]
          },
          "metadata": {},
          "execution_count": 46
        }
      ]
    },
    {
      "cell_type": "code",
      "source": [
        "dic = { x:y for x,y in mean.items()}"
      ],
      "metadata": {
        "id": "sL9ZPbWNzHGd"
      },
      "execution_count": 47,
      "outputs": []
    },
    {
      "cell_type": "code",
      "source": [
        "df.loc[df.bmi.isnull(),'bmi'] = (df[df.bmi.isnull()].age//10 *10).map(lambda x: dic[x])"
      ],
      "metadata": {
        "id": "fDuGapbZzHCr"
      },
      "execution_count": 49,
      "outputs": []
    },
    {
      "cell_type": "code",
      "source": [
        "df.bmi.mean()"
      ],
      "metadata": {
        "colab": {
          "base_uri": "https://localhost:8080/"
        },
        "id": "g1FKUWnd2AXz",
        "outputId": "4756309f-dd8f-4198-c57b-767b03d2b50f"
      },
      "execution_count": 51,
      "outputs": [
        {
          "output_type": "execute_result",
          "data": {
            "text/plain": [
              "28.91644272373725"
            ]
          },
          "metadata": {},
          "execution_count": 51
        }
      ]
    },
    {
      "cell_type": "markdown",
      "source": [
        "avg_glucose_level 컬럼의 값이 200이상인 데이터를 모두 199로 변경하고 stroke값이 1인 데이터의 avg_glucose_level값의 평균을 소수점이하 3자리 까지 구하여라"
      ],
      "metadata": {
        "id": "DyKNGLHu2JU7"
      }
    },
    {
      "cell_type": "code",
      "source": [
        "df.head()"
      ],
      "metadata": {
        "colab": {
          "base_uri": "https://localhost:8080/",
          "height": 206
        },
        "id": "sdBO2u102Jpj",
        "outputId": "9093b733-d131-46b5-d3e5-a0184168b61c"
      },
      "execution_count": 53,
      "outputs": [
        {
          "output_type": "execute_result",
          "data": {
            "text/plain": [
              "      id  gender   age  hypertension  heart_disease ever_married  \\\n",
              "0   9046    Male  67.0             0              1          Yes   \n",
              "1  51676  Female  61.0             0              0          Yes   \n",
              "2  31112    Male  80.0             0              1          Yes   \n",
              "3  60182  Female  49.0             0              0          Yes   \n",
              "4   1665  Female  79.0             1              0          Yes   \n",
              "\n",
              "       work_type Residence_type  avg_glucose_level   bmi   smoking_status  \\\n",
              "0        Private          Urban             228.69  36.6  formerly smoked   \n",
              "1  Self-employed          Rural             202.21   NaN     never smoked   \n",
              "2        Private          Rural             105.92  32.5     never smoked   \n",
              "3        Private          Urban             171.23  34.4           smokes   \n",
              "4  Self-employed          Rural             174.12  24.0     never smoked   \n",
              "\n",
              "   stroke  \n",
              "0       1  \n",
              "1       1  \n",
              "2       1  \n",
              "3       1  \n",
              "4       1  "
            ],
            "text/html": [
              "\n",
              "  <div id=\"df-8f656a62-b9bb-4348-88a2-afdd59c91db7\">\n",
              "    <div class=\"colab-df-container\">\n",
              "      <div>\n",
              "<style scoped>\n",
              "    .dataframe tbody tr th:only-of-type {\n",
              "        vertical-align: middle;\n",
              "    }\n",
              "\n",
              "    .dataframe tbody tr th {\n",
              "        vertical-align: top;\n",
              "    }\n",
              "\n",
              "    .dataframe thead th {\n",
              "        text-align: right;\n",
              "    }\n",
              "</style>\n",
              "<table border=\"1\" class=\"dataframe\">\n",
              "  <thead>\n",
              "    <tr style=\"text-align: right;\">\n",
              "      <th></th>\n",
              "      <th>id</th>\n",
              "      <th>gender</th>\n",
              "      <th>age</th>\n",
              "      <th>hypertension</th>\n",
              "      <th>heart_disease</th>\n",
              "      <th>ever_married</th>\n",
              "      <th>work_type</th>\n",
              "      <th>Residence_type</th>\n",
              "      <th>avg_glucose_level</th>\n",
              "      <th>bmi</th>\n",
              "      <th>smoking_status</th>\n",
              "      <th>stroke</th>\n",
              "    </tr>\n",
              "  </thead>\n",
              "  <tbody>\n",
              "    <tr>\n",
              "      <th>0</th>\n",
              "      <td>9046</td>\n",
              "      <td>Male</td>\n",
              "      <td>67.0</td>\n",
              "      <td>0</td>\n",
              "      <td>1</td>\n",
              "      <td>Yes</td>\n",
              "      <td>Private</td>\n",
              "      <td>Urban</td>\n",
              "      <td>228.69</td>\n",
              "      <td>36.6</td>\n",
              "      <td>formerly smoked</td>\n",
              "      <td>1</td>\n",
              "    </tr>\n",
              "    <tr>\n",
              "      <th>1</th>\n",
              "      <td>51676</td>\n",
              "      <td>Female</td>\n",
              "      <td>61.0</td>\n",
              "      <td>0</td>\n",
              "      <td>0</td>\n",
              "      <td>Yes</td>\n",
              "      <td>Self-employed</td>\n",
              "      <td>Rural</td>\n",
              "      <td>202.21</td>\n",
              "      <td>NaN</td>\n",
              "      <td>never smoked</td>\n",
              "      <td>1</td>\n",
              "    </tr>\n",
              "    <tr>\n",
              "      <th>2</th>\n",
              "      <td>31112</td>\n",
              "      <td>Male</td>\n",
              "      <td>80.0</td>\n",
              "      <td>0</td>\n",
              "      <td>1</td>\n",
              "      <td>Yes</td>\n",
              "      <td>Private</td>\n",
              "      <td>Rural</td>\n",
              "      <td>105.92</td>\n",
              "      <td>32.5</td>\n",
              "      <td>never smoked</td>\n",
              "      <td>1</td>\n",
              "    </tr>\n",
              "    <tr>\n",
              "      <th>3</th>\n",
              "      <td>60182</td>\n",
              "      <td>Female</td>\n",
              "      <td>49.0</td>\n",
              "      <td>0</td>\n",
              "      <td>0</td>\n",
              "      <td>Yes</td>\n",
              "      <td>Private</td>\n",
              "      <td>Urban</td>\n",
              "      <td>171.23</td>\n",
              "      <td>34.4</td>\n",
              "      <td>smokes</td>\n",
              "      <td>1</td>\n",
              "    </tr>\n",
              "    <tr>\n",
              "      <th>4</th>\n",
              "      <td>1665</td>\n",
              "      <td>Female</td>\n",
              "      <td>79.0</td>\n",
              "      <td>1</td>\n",
              "      <td>0</td>\n",
              "      <td>Yes</td>\n",
              "      <td>Self-employed</td>\n",
              "      <td>Rural</td>\n",
              "      <td>174.12</td>\n",
              "      <td>24.0</td>\n",
              "      <td>never smoked</td>\n",
              "      <td>1</td>\n",
              "    </tr>\n",
              "  </tbody>\n",
              "</table>\n",
              "</div>\n",
              "      <button class=\"colab-df-convert\" onclick=\"convertToInteractive('df-8f656a62-b9bb-4348-88a2-afdd59c91db7')\"\n",
              "              title=\"Convert this dataframe to an interactive table.\"\n",
              "              style=\"display:none;\">\n",
              "        \n",
              "  <svg xmlns=\"http://www.w3.org/2000/svg\" height=\"24px\"viewBox=\"0 0 24 24\"\n",
              "       width=\"24px\">\n",
              "    <path d=\"M0 0h24v24H0V0z\" fill=\"none\"/>\n",
              "    <path d=\"M18.56 5.44l.94 2.06.94-2.06 2.06-.94-2.06-.94-.94-2.06-.94 2.06-2.06.94zm-11 1L8.5 8.5l.94-2.06 2.06-.94-2.06-.94L8.5 2.5l-.94 2.06-2.06.94zm10 10l.94 2.06.94-2.06 2.06-.94-2.06-.94-.94-2.06-.94 2.06-2.06.94z\"/><path d=\"M17.41 7.96l-1.37-1.37c-.4-.4-.92-.59-1.43-.59-.52 0-1.04.2-1.43.59L10.3 9.45l-7.72 7.72c-.78.78-.78 2.05 0 2.83L4 21.41c.39.39.9.59 1.41.59.51 0 1.02-.2 1.41-.59l7.78-7.78 2.81-2.81c.8-.78.8-2.07 0-2.86zM5.41 20L4 18.59l7.72-7.72 1.47 1.35L5.41 20z\"/>\n",
              "  </svg>\n",
              "      </button>\n",
              "      \n",
              "  <style>\n",
              "    .colab-df-container {\n",
              "      display:flex;\n",
              "      flex-wrap:wrap;\n",
              "      gap: 12px;\n",
              "    }\n",
              "\n",
              "    .colab-df-convert {\n",
              "      background-color: #E8F0FE;\n",
              "      border: none;\n",
              "      border-radius: 50%;\n",
              "      cursor: pointer;\n",
              "      display: none;\n",
              "      fill: #1967D2;\n",
              "      height: 32px;\n",
              "      padding: 0 0 0 0;\n",
              "      width: 32px;\n",
              "    }\n",
              "\n",
              "    .colab-df-convert:hover {\n",
              "      background-color: #E2EBFA;\n",
              "      box-shadow: 0px 1px 2px rgba(60, 64, 67, 0.3), 0px 1px 3px 1px rgba(60, 64, 67, 0.15);\n",
              "      fill: #174EA6;\n",
              "    }\n",
              "\n",
              "    [theme=dark] .colab-df-convert {\n",
              "      background-color: #3B4455;\n",
              "      fill: #D2E3FC;\n",
              "    }\n",
              "\n",
              "    [theme=dark] .colab-df-convert:hover {\n",
              "      background-color: #434B5C;\n",
              "      box-shadow: 0px 1px 3px 1px rgba(0, 0, 0, 0.15);\n",
              "      filter: drop-shadow(0px 1px 2px rgba(0, 0, 0, 0.3));\n",
              "      fill: #FFFFFF;\n",
              "    }\n",
              "  </style>\n",
              "\n",
              "      <script>\n",
              "        const buttonEl =\n",
              "          document.querySelector('#df-8f656a62-b9bb-4348-88a2-afdd59c91db7 button.colab-df-convert');\n",
              "        buttonEl.style.display =\n",
              "          google.colab.kernel.accessAllowed ? 'block' : 'none';\n",
              "\n",
              "        async function convertToInteractive(key) {\n",
              "          const element = document.querySelector('#df-8f656a62-b9bb-4348-88a2-afdd59c91db7');\n",
              "          const dataTable =\n",
              "            await google.colab.kernel.invokeFunction('convertToInteractive',\n",
              "                                                     [key], {});\n",
              "          if (!dataTable) return;\n",
              "\n",
              "          const docLinkHtml = 'Like what you see? Visit the ' +\n",
              "            '<a target=\"_blank\" href=https://colab.research.google.com/notebooks/data_table.ipynb>data table notebook</a>'\n",
              "            + ' to learn more about interactive tables.';\n",
              "          element.innerHTML = '';\n",
              "          dataTable['output_type'] = 'display_data';\n",
              "          await google.colab.output.renderOutput(dataTable, element);\n",
              "          const docLink = document.createElement('div');\n",
              "          docLink.innerHTML = docLinkHtml;\n",
              "          element.appendChild(docLink);\n",
              "        }\n",
              "      </script>\n",
              "    </div>\n",
              "  </div>\n",
              "  "
            ]
          },
          "metadata": {},
          "execution_count": 53
        }
      ]
    },
    {
      "cell_type": "code",
      "source": [
        "df.loc[df['avg_glucose_level'] >= 200 , 'avg_glucose_level']=199\n",
        "# df.loc[조건, 이름] \n",
        "# 이름으로 찾겠다는 것을 명시"
      ],
      "metadata": {
        "id": "hzY4CDT_2Uk_"
      },
      "execution_count": 58,
      "outputs": []
    },
    {
      "cell_type": "code",
      "source": [
        "round(df.loc[df['stroke']==1]['avg_glucose_level'].mean(),3)"
      ],
      "metadata": {
        "colab": {
          "base_uri": "https://localhost:8080/"
        },
        "id": "jMCHizwb2ysS",
        "outputId": "bdb28d0e-2e5d-4b54-f889-0461de73c6e7"
      },
      "execution_count": 60,
      "outputs": [
        {
          "output_type": "execute_result",
          "data": {
            "text/plain": [
              "105.895"
            ]
          },
          "metadata": {},
          "execution_count": 60
        }
      ]
    },
    {
      "cell_type": "markdown",
      "source": [
        "✔ loc \n",
        "1. 데이터프레임의 행이나 컬럼에 label이나 boolean array로 접근.\n",
        "2. location의 약어로, 인간이 읽을 수 있는 label 값으로 데이터에 접근하는 것이다. \n",
        " \n",
        "✔ iloc \n",
        "1. 데이터프레임의 행이나 컬럼에 인덱스 값으로 접근.\n",
        "2. integer location의 약어로, 컴퓨터가 읽을 수 있는 indexing 값으로 데이터에 접근하는 것이다."
      ],
      "metadata": {
        "id": "PfHdmrHS3GUX"
      }
    },
    {
      "cell_type": "markdown",
      "source": [
        "# 1유형 -3"
      ],
      "metadata": {
        "id": "qE0EVrq23kYI"
      }
    },
    {
      "cell_type": "code",
      "source": [
        "data = '/content/Pokemon.csv'\n",
        "df= pd.read_csv(data, )"
      ],
      "metadata": {
        "id": "3B2Au__l3oYw"
      },
      "execution_count": 125,
      "outputs": []
    },
    {
      "cell_type": "code",
      "source": [
        "df.head()"
      ],
      "metadata": {
        "colab": {
          "base_uri": "https://localhost:8080/",
          "height": 206
        },
        "id": "1v3JP7Sn36PP",
        "outputId": "5d75538f-a948-41bc-9a35-4e4a59f0b5a6"
      },
      "execution_count": 62,
      "outputs": [
        {
          "output_type": "execute_result",
          "data": {
            "text/plain": [
              "   #                   Name Type 1  Type 2  Total  HP  Attack  Defense  \\\n",
              "0  1              Bulbasaur  Grass  Poison    318  45      49       49   \n",
              "1  2                Ivysaur  Grass  Poison    405  60      62       63   \n",
              "2  3               Venusaur  Grass  Poison    525  80      82       83   \n",
              "3  3  VenusaurMega Venusaur  Grass  Poison    625  80     100      123   \n",
              "4  4             Charmander   Fire     NaN    309  39      52       43   \n",
              "\n",
              "   Sp. Atk  Sp. Def  Speed  Generation  Legendary  \n",
              "0       65       65     45           1      False  \n",
              "1       80       80     60           1      False  \n",
              "2      100      100     80           1      False  \n",
              "3      122      120     80           1      False  \n",
              "4       60       50     65           1      False  "
            ],
            "text/html": [
              "\n",
              "  <div id=\"df-4134cd8a-be8f-4aa4-bc27-f7ac01cf8e4f\">\n",
              "    <div class=\"colab-df-container\">\n",
              "      <div>\n",
              "<style scoped>\n",
              "    .dataframe tbody tr th:only-of-type {\n",
              "        vertical-align: middle;\n",
              "    }\n",
              "\n",
              "    .dataframe tbody tr th {\n",
              "        vertical-align: top;\n",
              "    }\n",
              "\n",
              "    .dataframe thead th {\n",
              "        text-align: right;\n",
              "    }\n",
              "</style>\n",
              "<table border=\"1\" class=\"dataframe\">\n",
              "  <thead>\n",
              "    <tr style=\"text-align: right;\">\n",
              "      <th></th>\n",
              "      <th>#</th>\n",
              "      <th>Name</th>\n",
              "      <th>Type 1</th>\n",
              "      <th>Type 2</th>\n",
              "      <th>Total</th>\n",
              "      <th>HP</th>\n",
              "      <th>Attack</th>\n",
              "      <th>Defense</th>\n",
              "      <th>Sp. Atk</th>\n",
              "      <th>Sp. Def</th>\n",
              "      <th>Speed</th>\n",
              "      <th>Generation</th>\n",
              "      <th>Legendary</th>\n",
              "    </tr>\n",
              "  </thead>\n",
              "  <tbody>\n",
              "    <tr>\n",
              "      <th>0</th>\n",
              "      <td>1</td>\n",
              "      <td>Bulbasaur</td>\n",
              "      <td>Grass</td>\n",
              "      <td>Poison</td>\n",
              "      <td>318</td>\n",
              "      <td>45</td>\n",
              "      <td>49</td>\n",
              "      <td>49</td>\n",
              "      <td>65</td>\n",
              "      <td>65</td>\n",
              "      <td>45</td>\n",
              "      <td>1</td>\n",
              "      <td>False</td>\n",
              "    </tr>\n",
              "    <tr>\n",
              "      <th>1</th>\n",
              "      <td>2</td>\n",
              "      <td>Ivysaur</td>\n",
              "      <td>Grass</td>\n",
              "      <td>Poison</td>\n",
              "      <td>405</td>\n",
              "      <td>60</td>\n",
              "      <td>62</td>\n",
              "      <td>63</td>\n",
              "      <td>80</td>\n",
              "      <td>80</td>\n",
              "      <td>60</td>\n",
              "      <td>1</td>\n",
              "      <td>False</td>\n",
              "    </tr>\n",
              "    <tr>\n",
              "      <th>2</th>\n",
              "      <td>3</td>\n",
              "      <td>Venusaur</td>\n",
              "      <td>Grass</td>\n",
              "      <td>Poison</td>\n",
              "      <td>525</td>\n",
              "      <td>80</td>\n",
              "      <td>82</td>\n",
              "      <td>83</td>\n",
              "      <td>100</td>\n",
              "      <td>100</td>\n",
              "      <td>80</td>\n",
              "      <td>1</td>\n",
              "      <td>False</td>\n",
              "    </tr>\n",
              "    <tr>\n",
              "      <th>3</th>\n",
              "      <td>3</td>\n",
              "      <td>VenusaurMega Venusaur</td>\n",
              "      <td>Grass</td>\n",
              "      <td>Poison</td>\n",
              "      <td>625</td>\n",
              "      <td>80</td>\n",
              "      <td>100</td>\n",
              "      <td>123</td>\n",
              "      <td>122</td>\n",
              "      <td>120</td>\n",
              "      <td>80</td>\n",
              "      <td>1</td>\n",
              "      <td>False</td>\n",
              "    </tr>\n",
              "    <tr>\n",
              "      <th>4</th>\n",
              "      <td>4</td>\n",
              "      <td>Charmander</td>\n",
              "      <td>Fire</td>\n",
              "      <td>NaN</td>\n",
              "      <td>309</td>\n",
              "      <td>39</td>\n",
              "      <td>52</td>\n",
              "      <td>43</td>\n",
              "      <td>60</td>\n",
              "      <td>50</td>\n",
              "      <td>65</td>\n",
              "      <td>1</td>\n",
              "      <td>False</td>\n",
              "    </tr>\n",
              "  </tbody>\n",
              "</table>\n",
              "</div>\n",
              "      <button class=\"colab-df-convert\" onclick=\"convertToInteractive('df-4134cd8a-be8f-4aa4-bc27-f7ac01cf8e4f')\"\n",
              "              title=\"Convert this dataframe to an interactive table.\"\n",
              "              style=\"display:none;\">\n",
              "        \n",
              "  <svg xmlns=\"http://www.w3.org/2000/svg\" height=\"24px\"viewBox=\"0 0 24 24\"\n",
              "       width=\"24px\">\n",
              "    <path d=\"M0 0h24v24H0V0z\" fill=\"none\"/>\n",
              "    <path d=\"M18.56 5.44l.94 2.06.94-2.06 2.06-.94-2.06-.94-.94-2.06-.94 2.06-2.06.94zm-11 1L8.5 8.5l.94-2.06 2.06-.94-2.06-.94L8.5 2.5l-.94 2.06-2.06.94zm10 10l.94 2.06.94-2.06 2.06-.94-2.06-.94-.94-2.06-.94 2.06-2.06.94z\"/><path d=\"M17.41 7.96l-1.37-1.37c-.4-.4-.92-.59-1.43-.59-.52 0-1.04.2-1.43.59L10.3 9.45l-7.72 7.72c-.78.78-.78 2.05 0 2.83L4 21.41c.39.39.9.59 1.41.59.51 0 1.02-.2 1.41-.59l7.78-7.78 2.81-2.81c.8-.78.8-2.07 0-2.86zM5.41 20L4 18.59l7.72-7.72 1.47 1.35L5.41 20z\"/>\n",
              "  </svg>\n",
              "      </button>\n",
              "      \n",
              "  <style>\n",
              "    .colab-df-container {\n",
              "      display:flex;\n",
              "      flex-wrap:wrap;\n",
              "      gap: 12px;\n",
              "    }\n",
              "\n",
              "    .colab-df-convert {\n",
              "      background-color: #E8F0FE;\n",
              "      border: none;\n",
              "      border-radius: 50%;\n",
              "      cursor: pointer;\n",
              "      display: none;\n",
              "      fill: #1967D2;\n",
              "      height: 32px;\n",
              "      padding: 0 0 0 0;\n",
              "      width: 32px;\n",
              "    }\n",
              "\n",
              "    .colab-df-convert:hover {\n",
              "      background-color: #E2EBFA;\n",
              "      box-shadow: 0px 1px 2px rgba(60, 64, 67, 0.3), 0px 1px 3px 1px rgba(60, 64, 67, 0.15);\n",
              "      fill: #174EA6;\n",
              "    }\n",
              "\n",
              "    [theme=dark] .colab-df-convert {\n",
              "      background-color: #3B4455;\n",
              "      fill: #D2E3FC;\n",
              "    }\n",
              "\n",
              "    [theme=dark] .colab-df-convert:hover {\n",
              "      background-color: #434B5C;\n",
              "      box-shadow: 0px 1px 3px 1px rgba(0, 0, 0, 0.15);\n",
              "      filter: drop-shadow(0px 1px 2px rgba(0, 0, 0, 0.3));\n",
              "      fill: #FFFFFF;\n",
              "    }\n",
              "  </style>\n",
              "\n",
              "      <script>\n",
              "        const buttonEl =\n",
              "          document.querySelector('#df-4134cd8a-be8f-4aa4-bc27-f7ac01cf8e4f button.colab-df-convert');\n",
              "        buttonEl.style.display =\n",
              "          google.colab.kernel.accessAllowed ? 'block' : 'none';\n",
              "\n",
              "        async function convertToInteractive(key) {\n",
              "          const element = document.querySelector('#df-4134cd8a-be8f-4aa4-bc27-f7ac01cf8e4f');\n",
              "          const dataTable =\n",
              "            await google.colab.kernel.invokeFunction('convertToInteractive',\n",
              "                                                     [key], {});\n",
              "          if (!dataTable) return;\n",
              "\n",
              "          const docLinkHtml = 'Like what you see? Visit the ' +\n",
              "            '<a target=\"_blank\" href=https://colab.research.google.com/notebooks/data_table.ipynb>data table notebook</a>'\n",
              "            + ' to learn more about interactive tables.';\n",
              "          element.innerHTML = '';\n",
              "          dataTable['output_type'] = 'display_data';\n",
              "          await google.colab.output.renderOutput(dataTable, element);\n",
              "          const docLink = document.createElement('div');\n",
              "          docLink.innerHTML = docLinkHtml;\n",
              "          element.appendChild(docLink);\n",
              "        }\n",
              "      </script>\n",
              "    </div>\n",
              "  </div>\n",
              "  "
            ]
          },
          "metadata": {},
          "execution_count": 62
        }
      ]
    },
    {
      "cell_type": "code",
      "source": [
        "df.info()"
      ],
      "metadata": {
        "colab": {
          "base_uri": "https://localhost:8080/"
        },
        "id": "fJ6mWWdM38HG",
        "outputId": "3adb43a0-88dc-4a61-d6b7-8948c168574e"
      },
      "execution_count": 63,
      "outputs": [
        {
          "output_type": "stream",
          "name": "stdout",
          "text": [
            "<class 'pandas.core.frame.DataFrame'>\n",
            "RangeIndex: 800 entries, 0 to 799\n",
            "Data columns (total 13 columns):\n",
            " #   Column      Non-Null Count  Dtype \n",
            "---  ------      --------------  ----- \n",
            " 0   #           800 non-null    int64 \n",
            " 1   Name        800 non-null    object\n",
            " 2   Type 1      800 non-null    object\n",
            " 3   Type 2      414 non-null    object\n",
            " 4   Total       800 non-null    int64 \n",
            " 5   HP          800 non-null    int64 \n",
            " 6   Attack      800 non-null    int64 \n",
            " 7   Defense     800 non-null    int64 \n",
            " 8   Sp. Atk     800 non-null    int64 \n",
            " 9   Sp. Def     800 non-null    int64 \n",
            " 10  Speed       800 non-null    int64 \n",
            " 11  Generation  800 non-null    int64 \n",
            " 12  Legendary   800 non-null    bool  \n",
            "dtypes: bool(1), int64(9), object(3)\n",
            "memory usage: 75.9+ KB\n"
          ]
        }
      ]
    },
    {
      "cell_type": "markdown",
      "source": [
        "Attack컬럼의 값을 기준으로 내림차순정렬 했을때 상위 400위까지 포켓몬들과 401~800위까지의 포켓몬들에서 전설포켓몬(Legendary컬럼)의 숫자 차이는?"
      ],
      "metadata": {
        "id": "cZWiRhiM3uq4"
      }
    },
    {
      "cell_type": "code",
      "source": [
        "up =df.sort_values('Attack', ascending=False).reset_index(drop='Ture')[:400]"
      ],
      "metadata": {
        "id": "LlJ71Twc3sY3"
      },
      "execution_count": 88,
      "outputs": []
    },
    {
      "cell_type": "code",
      "source": [
        "down =df.sort_values('Attack', ascending=False).reset_index(drop='Ture')[400:]"
      ],
      "metadata": {
        "id": "NCGuPxxf5CCW"
      },
      "execution_count": 89,
      "outputs": []
    },
    {
      "cell_type": "code",
      "source": [
        "up.Legendary.sum() - down.Legendary.sum()"
      ],
      "metadata": {
        "colab": {
          "base_uri": "https://localhost:8080/"
        },
        "id": "iSQATBML5B__",
        "outputId": "3bd6bf96-b0c2-4669-9491-9bc749b421ff"
      },
      "execution_count": 92,
      "outputs": [
        {
          "output_type": "execute_result",
          "data": {
            "text/plain": [
              "57"
            ]
          },
          "metadata": {},
          "execution_count": 92
        }
      ]
    },
    {
      "cell_type": "markdown",
      "source": [
        "Type 1 컬럼의 종류에 따른 Total 컬럼의 평균값을 내림차순 정렬했을때 상위 3번째 Type 1은 무엇인가?"
      ],
      "metadata": {
        "id": "28GCnjJ43vA_"
      }
    },
    {
      "cell_type": "code",
      "source": [
        "df.head()"
      ],
      "metadata": {
        "colab": {
          "base_uri": "https://localhost:8080/",
          "height": 206
        },
        "id": "SFEOUeY334rt",
        "outputId": "6f1c77a6-884d-4afd-e6d0-1f47735dafd9"
      },
      "execution_count": 93,
      "outputs": [
        {
          "output_type": "execute_result",
          "data": {
            "text/plain": [
              "   #                   Name Type 1  Type 2  Total  HP  Attack  Defense  \\\n",
              "0  1              Bulbasaur  Grass  Poison    318  45      49       49   \n",
              "1  2                Ivysaur  Grass  Poison    405  60      62       63   \n",
              "2  3               Venusaur  Grass  Poison    525  80      82       83   \n",
              "3  3  VenusaurMega Venusaur  Grass  Poison    625  80     100      123   \n",
              "4  4             Charmander   Fire     NaN    309  39      52       43   \n",
              "\n",
              "   Sp. Atk  Sp. Def  Speed  Generation  Legendary  \n",
              "0       65       65     45           1      False  \n",
              "1       80       80     60           1      False  \n",
              "2      100      100     80           1      False  \n",
              "3      122      120     80           1      False  \n",
              "4       60       50     65           1      False  "
            ],
            "text/html": [
              "\n",
              "  <div id=\"df-77aaa53e-8e2e-4976-9220-b129f05c61e2\">\n",
              "    <div class=\"colab-df-container\">\n",
              "      <div>\n",
              "<style scoped>\n",
              "    .dataframe tbody tr th:only-of-type {\n",
              "        vertical-align: middle;\n",
              "    }\n",
              "\n",
              "    .dataframe tbody tr th {\n",
              "        vertical-align: top;\n",
              "    }\n",
              "\n",
              "    .dataframe thead th {\n",
              "        text-align: right;\n",
              "    }\n",
              "</style>\n",
              "<table border=\"1\" class=\"dataframe\">\n",
              "  <thead>\n",
              "    <tr style=\"text-align: right;\">\n",
              "      <th></th>\n",
              "      <th>#</th>\n",
              "      <th>Name</th>\n",
              "      <th>Type 1</th>\n",
              "      <th>Type 2</th>\n",
              "      <th>Total</th>\n",
              "      <th>HP</th>\n",
              "      <th>Attack</th>\n",
              "      <th>Defense</th>\n",
              "      <th>Sp. Atk</th>\n",
              "      <th>Sp. Def</th>\n",
              "      <th>Speed</th>\n",
              "      <th>Generation</th>\n",
              "      <th>Legendary</th>\n",
              "    </tr>\n",
              "  </thead>\n",
              "  <tbody>\n",
              "    <tr>\n",
              "      <th>0</th>\n",
              "      <td>1</td>\n",
              "      <td>Bulbasaur</td>\n",
              "      <td>Grass</td>\n",
              "      <td>Poison</td>\n",
              "      <td>318</td>\n",
              "      <td>45</td>\n",
              "      <td>49</td>\n",
              "      <td>49</td>\n",
              "      <td>65</td>\n",
              "      <td>65</td>\n",
              "      <td>45</td>\n",
              "      <td>1</td>\n",
              "      <td>False</td>\n",
              "    </tr>\n",
              "    <tr>\n",
              "      <th>1</th>\n",
              "      <td>2</td>\n",
              "      <td>Ivysaur</td>\n",
              "      <td>Grass</td>\n",
              "      <td>Poison</td>\n",
              "      <td>405</td>\n",
              "      <td>60</td>\n",
              "      <td>62</td>\n",
              "      <td>63</td>\n",
              "      <td>80</td>\n",
              "      <td>80</td>\n",
              "      <td>60</td>\n",
              "      <td>1</td>\n",
              "      <td>False</td>\n",
              "    </tr>\n",
              "    <tr>\n",
              "      <th>2</th>\n",
              "      <td>3</td>\n",
              "      <td>Venusaur</td>\n",
              "      <td>Grass</td>\n",
              "      <td>Poison</td>\n",
              "      <td>525</td>\n",
              "      <td>80</td>\n",
              "      <td>82</td>\n",
              "      <td>83</td>\n",
              "      <td>100</td>\n",
              "      <td>100</td>\n",
              "      <td>80</td>\n",
              "      <td>1</td>\n",
              "      <td>False</td>\n",
              "    </tr>\n",
              "    <tr>\n",
              "      <th>3</th>\n",
              "      <td>3</td>\n",
              "      <td>VenusaurMega Venusaur</td>\n",
              "      <td>Grass</td>\n",
              "      <td>Poison</td>\n",
              "      <td>625</td>\n",
              "      <td>80</td>\n",
              "      <td>100</td>\n",
              "      <td>123</td>\n",
              "      <td>122</td>\n",
              "      <td>120</td>\n",
              "      <td>80</td>\n",
              "      <td>1</td>\n",
              "      <td>False</td>\n",
              "    </tr>\n",
              "    <tr>\n",
              "      <th>4</th>\n",
              "      <td>4</td>\n",
              "      <td>Charmander</td>\n",
              "      <td>Fire</td>\n",
              "      <td>NaN</td>\n",
              "      <td>309</td>\n",
              "      <td>39</td>\n",
              "      <td>52</td>\n",
              "      <td>43</td>\n",
              "      <td>60</td>\n",
              "      <td>50</td>\n",
              "      <td>65</td>\n",
              "      <td>1</td>\n",
              "      <td>False</td>\n",
              "    </tr>\n",
              "  </tbody>\n",
              "</table>\n",
              "</div>\n",
              "      <button class=\"colab-df-convert\" onclick=\"convertToInteractive('df-77aaa53e-8e2e-4976-9220-b129f05c61e2')\"\n",
              "              title=\"Convert this dataframe to an interactive table.\"\n",
              "              style=\"display:none;\">\n",
              "        \n",
              "  <svg xmlns=\"http://www.w3.org/2000/svg\" height=\"24px\"viewBox=\"0 0 24 24\"\n",
              "       width=\"24px\">\n",
              "    <path d=\"M0 0h24v24H0V0z\" fill=\"none\"/>\n",
              "    <path d=\"M18.56 5.44l.94 2.06.94-2.06 2.06-.94-2.06-.94-.94-2.06-.94 2.06-2.06.94zm-11 1L8.5 8.5l.94-2.06 2.06-.94-2.06-.94L8.5 2.5l-.94 2.06-2.06.94zm10 10l.94 2.06.94-2.06 2.06-.94-2.06-.94-.94-2.06-.94 2.06-2.06.94z\"/><path d=\"M17.41 7.96l-1.37-1.37c-.4-.4-.92-.59-1.43-.59-.52 0-1.04.2-1.43.59L10.3 9.45l-7.72 7.72c-.78.78-.78 2.05 0 2.83L4 21.41c.39.39.9.59 1.41.59.51 0 1.02-.2 1.41-.59l7.78-7.78 2.81-2.81c.8-.78.8-2.07 0-2.86zM5.41 20L4 18.59l7.72-7.72 1.47 1.35L5.41 20z\"/>\n",
              "  </svg>\n",
              "      </button>\n",
              "      \n",
              "  <style>\n",
              "    .colab-df-container {\n",
              "      display:flex;\n",
              "      flex-wrap:wrap;\n",
              "      gap: 12px;\n",
              "    }\n",
              "\n",
              "    .colab-df-convert {\n",
              "      background-color: #E8F0FE;\n",
              "      border: none;\n",
              "      border-radius: 50%;\n",
              "      cursor: pointer;\n",
              "      display: none;\n",
              "      fill: #1967D2;\n",
              "      height: 32px;\n",
              "      padding: 0 0 0 0;\n",
              "      width: 32px;\n",
              "    }\n",
              "\n",
              "    .colab-df-convert:hover {\n",
              "      background-color: #E2EBFA;\n",
              "      box-shadow: 0px 1px 2px rgba(60, 64, 67, 0.3), 0px 1px 3px 1px rgba(60, 64, 67, 0.15);\n",
              "      fill: #174EA6;\n",
              "    }\n",
              "\n",
              "    [theme=dark] .colab-df-convert {\n",
              "      background-color: #3B4455;\n",
              "      fill: #D2E3FC;\n",
              "    }\n",
              "\n",
              "    [theme=dark] .colab-df-convert:hover {\n",
              "      background-color: #434B5C;\n",
              "      box-shadow: 0px 1px 3px 1px rgba(0, 0, 0, 0.15);\n",
              "      filter: drop-shadow(0px 1px 2px rgba(0, 0, 0, 0.3));\n",
              "      fill: #FFFFFF;\n",
              "    }\n",
              "  </style>\n",
              "\n",
              "      <script>\n",
              "        const buttonEl =\n",
              "          document.querySelector('#df-77aaa53e-8e2e-4976-9220-b129f05c61e2 button.colab-df-convert');\n",
              "        buttonEl.style.display =\n",
              "          google.colab.kernel.accessAllowed ? 'block' : 'none';\n",
              "\n",
              "        async function convertToInteractive(key) {\n",
              "          const element = document.querySelector('#df-77aaa53e-8e2e-4976-9220-b129f05c61e2');\n",
              "          const dataTable =\n",
              "            await google.colab.kernel.invokeFunction('convertToInteractive',\n",
              "                                                     [key], {});\n",
              "          if (!dataTable) return;\n",
              "\n",
              "          const docLinkHtml = 'Like what you see? Visit the ' +\n",
              "            '<a target=\"_blank\" href=https://colab.research.google.com/notebooks/data_table.ipynb>data table notebook</a>'\n",
              "            + ' to learn more about interactive tables.';\n",
              "          element.innerHTML = '';\n",
              "          dataTable['output_type'] = 'display_data';\n",
              "          await google.colab.output.renderOutput(dataTable, element);\n",
              "          const docLink = document.createElement('div');\n",
              "          docLink.innerHTML = docLinkHtml;\n",
              "          element.appendChild(docLink);\n",
              "        }\n",
              "      </script>\n",
              "    </div>\n",
              "  </div>\n",
              "  "
            ]
          },
          "metadata": {},
          "execution_count": 93
        }
      ]
    },
    {
      "cell_type": "code",
      "source": [
        "df['Type 1'].unique()"
      ],
      "metadata": {
        "colab": {
          "base_uri": "https://localhost:8080/"
        },
        "id": "OhfrqJz26Qpc",
        "outputId": "b75ecf3e-9107-40b7-cddd-05215fe0255d"
      },
      "execution_count": 95,
      "outputs": [
        {
          "output_type": "execute_result",
          "data": {
            "text/plain": [
              "array(['Grass', 'Fire', 'Water', 'Bug', 'Normal', 'Poison', 'Electric',\n",
              "       'Ground', 'Fairy', 'Fighting', 'Psychic', 'Rock', 'Ghost', 'Ice',\n",
              "       'Dragon', 'Dark', 'Steel', 'Flying'], dtype=object)"
            ]
          },
          "metadata": {},
          "execution_count": 95
        }
      ]
    },
    {
      "cell_type": "code",
      "source": [
        "# 종류에 따른 = groupby / index를 뽑고싶다면 .index / 값만 뽑고싶다면 .values\n",
        "df.groupby(['Type 1']).Total.mean().sort_values(ascending=False).head(3).index[2]"
      ],
      "metadata": {
        "colab": {
          "base_uri": "https://localhost:8080/",
          "height": 36
        },
        "id": "pXeeGwOF6X7F",
        "outputId": "6f4e666c-0bd1-479d-ea95-2e4448826ce1"
      },
      "execution_count": 108,
      "outputs": [
        {
          "output_type": "execute_result",
          "data": {
            "text/plain": [
              "'Flying'"
            ],
            "application/vnd.google.colaboratory.intrinsic+json": {
              "type": "string"
            }
          },
          "metadata": {},
          "execution_count": 108
        }
      ]
    },
    {
      "cell_type": "markdown",
      "source": [
        "결측치가 존재하는 행을 모두 지운 후 처음부터 순서대로 60% 데이터를 추출하여 Defense컬럼의 1분위수를 구하여라\n",
        "\n"
      ],
      "metadata": {
        "id": "jjUunZKn3vz7"
      }
    },
    {
      "cell_type": "code",
      "source": [
        "df.info()"
      ],
      "metadata": {
        "colab": {
          "base_uri": "https://localhost:8080/"
        },
        "id": "9ysg1dE67ZlF",
        "outputId": "d1b2e9f2-dfdb-429b-8deb-c835bdd24670"
      },
      "execution_count": 111,
      "outputs": [
        {
          "output_type": "stream",
          "name": "stdout",
          "text": [
            "<class 'pandas.core.frame.DataFrame'>\n",
            "Int64Index: 414 entries, 0 to 799\n",
            "Data columns (total 13 columns):\n",
            " #   Column      Non-Null Count  Dtype \n",
            "---  ------      --------------  ----- \n",
            " 0   #           414 non-null    int64 \n",
            " 1   Name        414 non-null    object\n",
            " 2   Type 1      414 non-null    object\n",
            " 3   Type 2      414 non-null    object\n",
            " 4   Total       414 non-null    int64 \n",
            " 5   HP          414 non-null    int64 \n",
            " 6   Attack      414 non-null    int64 \n",
            " 7   Defense     414 non-null    int64 \n",
            " 8   Sp. Atk     414 non-null    int64 \n",
            " 9   Sp. Def     414 non-null    int64 \n",
            " 10  Speed       414 non-null    int64 \n",
            " 11  Generation  414 non-null    int64 \n",
            " 12  Legendary   414 non-null    bool  \n",
            "dtypes: bool(1), int64(9), object(3)\n",
            "memory usage: 42.5+ KB\n"
          ]
        }
      ]
    },
    {
      "cell_type": "code",
      "source": [
        "df.dropna(inplace=True)"
      ],
      "metadata": {
        "id": "AFVhO23s35CP"
      },
      "execution_count": 110,
      "outputs": []
    },
    {
      "cell_type": "code",
      "source": [
        "# 60%만 추출하기\n",
        "train = df[:int(df.shape[0]*0.6)]"
      ],
      "metadata": {
        "id": "oy-93QZr7dPH"
      },
      "execution_count": 116,
      "outputs": []
    },
    {
      "cell_type": "code",
      "source": [
        "#q1 = 0.25\n",
        "np.percentile(train['Defense'],25)\n",
        "# np.percentile 백분위수 구하는 함수"
      ],
      "metadata": {
        "colab": {
          "base_uri": "https://localhost:8080/"
        },
        "id": "UhK0z9oh71T0",
        "outputId": "ea27d9a9-5bd7-4fd3-db1c-fdfa1e3e04cc"
      },
      "execution_count": 119,
      "outputs": [
        {
          "output_type": "execute_result",
          "data": {
            "text/plain": [
              "50.0"
            ]
          },
          "metadata": {},
          "execution_count": 119
        }
      ]
    },
    {
      "cell_type": "markdown",
      "source": [
        "Type 1 컬럼의 속성이 Fire인 포켓몬들의 Attack의 평균이상인 Water속성의 포켓몬 수를 구하여라\n",
        "\n"
      ],
      "metadata": {
        "id": "ianZYsA13vom"
      }
    },
    {
      "cell_type": "code",
      "source": [
        "target = df[df['Attack']>=df[(df['Type 1']=='Fire')].Attack.mean()]\n",
        "# fire 불속성의 어택 평균 이상 (84)인 어택을 타겟으로 변수에 할당 한다\n",
        "target"
      ],
      "metadata": {
        "colab": {
          "base_uri": "https://localhost:8080/",
          "height": 424
        },
        "id": "aP2Ns_it9Gk3",
        "outputId": "e1641db9-beb7-4775-a3e9-d346921c3161"
      },
      "execution_count": 159,
      "outputs": [
        {
          "output_type": "execute_result",
          "data": {
            "text/plain": [
              "       #                       Name   Type 1  Type 2  Total  HP  Attack  \\\n",
              "3      3      VenusaurMega Venusaur    Grass  Poison    625  80     100   \n",
              "7      6  CharizardMega Charizard X     Fire  Dragon    634  78     130   \n",
              "8      6  CharizardMega Charizard Y     Fire  Flying    634  78     104   \n",
              "12     9    BlastoiseMega Blastoise    Water     NaN    630  79     103   \n",
              "18    15                   Beedrill      Bug  Poison    395  65      90   \n",
              "..   ...                        ...      ...     ...    ...  ..     ...   \n",
              "795  719                    Diancie     Rock   Fairy    600  50     100   \n",
              "796  719        DiancieMega Diancie     Rock   Fairy    700  50     160   \n",
              "797  720        HoopaHoopa Confined  Psychic   Ghost    600  80     110   \n",
              "798  720         HoopaHoopa Unbound  Psychic    Dark    680  80     160   \n",
              "799  721                  Volcanion     Fire   Water    600  80     110   \n",
              "\n",
              "     Defense  Sp. Atk  Sp. Def  Speed  Generation  Legendary  \n",
              "3        123      122      120     80           1      False  \n",
              "7        111      130       85    100           1      False  \n",
              "8         78      159      115    100           1      False  \n",
              "12       120      135      115     78           1      False  \n",
              "18        40       45       80     75           1      False  \n",
              "..       ...      ...      ...    ...         ...        ...  \n",
              "795      150      100      150     50           6       True  \n",
              "796      110      160      110    110           6       True  \n",
              "797       60      150      130     70           6       True  \n",
              "798       60      170      130     80           6       True  \n",
              "799      120      130       90     70           6       True  \n",
              "\n",
              "[323 rows x 13 columns]"
            ],
            "text/html": [
              "\n",
              "  <div id=\"df-57b300b1-237b-453a-9023-4f0060b5d9b3\">\n",
              "    <div class=\"colab-df-container\">\n",
              "      <div>\n",
              "<style scoped>\n",
              "    .dataframe tbody tr th:only-of-type {\n",
              "        vertical-align: middle;\n",
              "    }\n",
              "\n",
              "    .dataframe tbody tr th {\n",
              "        vertical-align: top;\n",
              "    }\n",
              "\n",
              "    .dataframe thead th {\n",
              "        text-align: right;\n",
              "    }\n",
              "</style>\n",
              "<table border=\"1\" class=\"dataframe\">\n",
              "  <thead>\n",
              "    <tr style=\"text-align: right;\">\n",
              "      <th></th>\n",
              "      <th>#</th>\n",
              "      <th>Name</th>\n",
              "      <th>Type 1</th>\n",
              "      <th>Type 2</th>\n",
              "      <th>Total</th>\n",
              "      <th>HP</th>\n",
              "      <th>Attack</th>\n",
              "      <th>Defense</th>\n",
              "      <th>Sp. Atk</th>\n",
              "      <th>Sp. Def</th>\n",
              "      <th>Speed</th>\n",
              "      <th>Generation</th>\n",
              "      <th>Legendary</th>\n",
              "    </tr>\n",
              "  </thead>\n",
              "  <tbody>\n",
              "    <tr>\n",
              "      <th>3</th>\n",
              "      <td>3</td>\n",
              "      <td>VenusaurMega Venusaur</td>\n",
              "      <td>Grass</td>\n",
              "      <td>Poison</td>\n",
              "      <td>625</td>\n",
              "      <td>80</td>\n",
              "      <td>100</td>\n",
              "      <td>123</td>\n",
              "      <td>122</td>\n",
              "      <td>120</td>\n",
              "      <td>80</td>\n",
              "      <td>1</td>\n",
              "      <td>False</td>\n",
              "    </tr>\n",
              "    <tr>\n",
              "      <th>7</th>\n",
              "      <td>6</td>\n",
              "      <td>CharizardMega Charizard X</td>\n",
              "      <td>Fire</td>\n",
              "      <td>Dragon</td>\n",
              "      <td>634</td>\n",
              "      <td>78</td>\n",
              "      <td>130</td>\n",
              "      <td>111</td>\n",
              "      <td>130</td>\n",
              "      <td>85</td>\n",
              "      <td>100</td>\n",
              "      <td>1</td>\n",
              "      <td>False</td>\n",
              "    </tr>\n",
              "    <tr>\n",
              "      <th>8</th>\n",
              "      <td>6</td>\n",
              "      <td>CharizardMega Charizard Y</td>\n",
              "      <td>Fire</td>\n",
              "      <td>Flying</td>\n",
              "      <td>634</td>\n",
              "      <td>78</td>\n",
              "      <td>104</td>\n",
              "      <td>78</td>\n",
              "      <td>159</td>\n",
              "      <td>115</td>\n",
              "      <td>100</td>\n",
              "      <td>1</td>\n",
              "      <td>False</td>\n",
              "    </tr>\n",
              "    <tr>\n",
              "      <th>12</th>\n",
              "      <td>9</td>\n",
              "      <td>BlastoiseMega Blastoise</td>\n",
              "      <td>Water</td>\n",
              "      <td>NaN</td>\n",
              "      <td>630</td>\n",
              "      <td>79</td>\n",
              "      <td>103</td>\n",
              "      <td>120</td>\n",
              "      <td>135</td>\n",
              "      <td>115</td>\n",
              "      <td>78</td>\n",
              "      <td>1</td>\n",
              "      <td>False</td>\n",
              "    </tr>\n",
              "    <tr>\n",
              "      <th>18</th>\n",
              "      <td>15</td>\n",
              "      <td>Beedrill</td>\n",
              "      <td>Bug</td>\n",
              "      <td>Poison</td>\n",
              "      <td>395</td>\n",
              "      <td>65</td>\n",
              "      <td>90</td>\n",
              "      <td>40</td>\n",
              "      <td>45</td>\n",
              "      <td>80</td>\n",
              "      <td>75</td>\n",
              "      <td>1</td>\n",
              "      <td>False</td>\n",
              "    </tr>\n",
              "    <tr>\n",
              "      <th>...</th>\n",
              "      <td>...</td>\n",
              "      <td>...</td>\n",
              "      <td>...</td>\n",
              "      <td>...</td>\n",
              "      <td>...</td>\n",
              "      <td>...</td>\n",
              "      <td>...</td>\n",
              "      <td>...</td>\n",
              "      <td>...</td>\n",
              "      <td>...</td>\n",
              "      <td>...</td>\n",
              "      <td>...</td>\n",
              "      <td>...</td>\n",
              "    </tr>\n",
              "    <tr>\n",
              "      <th>795</th>\n",
              "      <td>719</td>\n",
              "      <td>Diancie</td>\n",
              "      <td>Rock</td>\n",
              "      <td>Fairy</td>\n",
              "      <td>600</td>\n",
              "      <td>50</td>\n",
              "      <td>100</td>\n",
              "      <td>150</td>\n",
              "      <td>100</td>\n",
              "      <td>150</td>\n",
              "      <td>50</td>\n",
              "      <td>6</td>\n",
              "      <td>True</td>\n",
              "    </tr>\n",
              "    <tr>\n",
              "      <th>796</th>\n",
              "      <td>719</td>\n",
              "      <td>DiancieMega Diancie</td>\n",
              "      <td>Rock</td>\n",
              "      <td>Fairy</td>\n",
              "      <td>700</td>\n",
              "      <td>50</td>\n",
              "      <td>160</td>\n",
              "      <td>110</td>\n",
              "      <td>160</td>\n",
              "      <td>110</td>\n",
              "      <td>110</td>\n",
              "      <td>6</td>\n",
              "      <td>True</td>\n",
              "    </tr>\n",
              "    <tr>\n",
              "      <th>797</th>\n",
              "      <td>720</td>\n",
              "      <td>HoopaHoopa Confined</td>\n",
              "      <td>Psychic</td>\n",
              "      <td>Ghost</td>\n",
              "      <td>600</td>\n",
              "      <td>80</td>\n",
              "      <td>110</td>\n",
              "      <td>60</td>\n",
              "      <td>150</td>\n",
              "      <td>130</td>\n",
              "      <td>70</td>\n",
              "      <td>6</td>\n",
              "      <td>True</td>\n",
              "    </tr>\n",
              "    <tr>\n",
              "      <th>798</th>\n",
              "      <td>720</td>\n",
              "      <td>HoopaHoopa Unbound</td>\n",
              "      <td>Psychic</td>\n",
              "      <td>Dark</td>\n",
              "      <td>680</td>\n",
              "      <td>80</td>\n",
              "      <td>160</td>\n",
              "      <td>60</td>\n",
              "      <td>170</td>\n",
              "      <td>130</td>\n",
              "      <td>80</td>\n",
              "      <td>6</td>\n",
              "      <td>True</td>\n",
              "    </tr>\n",
              "    <tr>\n",
              "      <th>799</th>\n",
              "      <td>721</td>\n",
              "      <td>Volcanion</td>\n",
              "      <td>Fire</td>\n",
              "      <td>Water</td>\n",
              "      <td>600</td>\n",
              "      <td>80</td>\n",
              "      <td>110</td>\n",
              "      <td>120</td>\n",
              "      <td>130</td>\n",
              "      <td>90</td>\n",
              "      <td>70</td>\n",
              "      <td>6</td>\n",
              "      <td>True</td>\n",
              "    </tr>\n",
              "  </tbody>\n",
              "</table>\n",
              "<p>323 rows × 13 columns</p>\n",
              "</div>\n",
              "      <button class=\"colab-df-convert\" onclick=\"convertToInteractive('df-57b300b1-237b-453a-9023-4f0060b5d9b3')\"\n",
              "              title=\"Convert this dataframe to an interactive table.\"\n",
              "              style=\"display:none;\">\n",
              "        \n",
              "  <svg xmlns=\"http://www.w3.org/2000/svg\" height=\"24px\"viewBox=\"0 0 24 24\"\n",
              "       width=\"24px\">\n",
              "    <path d=\"M0 0h24v24H0V0z\" fill=\"none\"/>\n",
              "    <path d=\"M18.56 5.44l.94 2.06.94-2.06 2.06-.94-2.06-.94-.94-2.06-.94 2.06-2.06.94zm-11 1L8.5 8.5l.94-2.06 2.06-.94-2.06-.94L8.5 2.5l-.94 2.06-2.06.94zm10 10l.94 2.06.94-2.06 2.06-.94-2.06-.94-.94-2.06-.94 2.06-2.06.94z\"/><path d=\"M17.41 7.96l-1.37-1.37c-.4-.4-.92-.59-1.43-.59-.52 0-1.04.2-1.43.59L10.3 9.45l-7.72 7.72c-.78.78-.78 2.05 0 2.83L4 21.41c.39.39.9.59 1.41.59.51 0 1.02-.2 1.41-.59l7.78-7.78 2.81-2.81c.8-.78.8-2.07 0-2.86zM5.41 20L4 18.59l7.72-7.72 1.47 1.35L5.41 20z\"/>\n",
              "  </svg>\n",
              "      </button>\n",
              "      \n",
              "  <style>\n",
              "    .colab-df-container {\n",
              "      display:flex;\n",
              "      flex-wrap:wrap;\n",
              "      gap: 12px;\n",
              "    }\n",
              "\n",
              "    .colab-df-convert {\n",
              "      background-color: #E8F0FE;\n",
              "      border: none;\n",
              "      border-radius: 50%;\n",
              "      cursor: pointer;\n",
              "      display: none;\n",
              "      fill: #1967D2;\n",
              "      height: 32px;\n",
              "      padding: 0 0 0 0;\n",
              "      width: 32px;\n",
              "    }\n",
              "\n",
              "    .colab-df-convert:hover {\n",
              "      background-color: #E2EBFA;\n",
              "      box-shadow: 0px 1px 2px rgba(60, 64, 67, 0.3), 0px 1px 3px 1px rgba(60, 64, 67, 0.15);\n",
              "      fill: #174EA6;\n",
              "    }\n",
              "\n",
              "    [theme=dark] .colab-df-convert {\n",
              "      background-color: #3B4455;\n",
              "      fill: #D2E3FC;\n",
              "    }\n",
              "\n",
              "    [theme=dark] .colab-df-convert:hover {\n",
              "      background-color: #434B5C;\n",
              "      box-shadow: 0px 1px 3px 1px rgba(0, 0, 0, 0.15);\n",
              "      filter: drop-shadow(0px 1px 2px rgba(0, 0, 0, 0.3));\n",
              "      fill: #FFFFFF;\n",
              "    }\n",
              "  </style>\n",
              "\n",
              "      <script>\n",
              "        const buttonEl =\n",
              "          document.querySelector('#df-57b300b1-237b-453a-9023-4f0060b5d9b3 button.colab-df-convert');\n",
              "        buttonEl.style.display =\n",
              "          google.colab.kernel.accessAllowed ? 'block' : 'none';\n",
              "\n",
              "        async function convertToInteractive(key) {\n",
              "          const element = document.querySelector('#df-57b300b1-237b-453a-9023-4f0060b5d9b3');\n",
              "          const dataTable =\n",
              "            await google.colab.kernel.invokeFunction('convertToInteractive',\n",
              "                                                     [key], {});\n",
              "          if (!dataTable) return;\n",
              "\n",
              "          const docLinkHtml = 'Like what you see? Visit the ' +\n",
              "            '<a target=\"_blank\" href=https://colab.research.google.com/notebooks/data_table.ipynb>data table notebook</a>'\n",
              "            + ' to learn more about interactive tables.';\n",
              "          element.innerHTML = '';\n",
              "          dataTable['output_type'] = 'display_data';\n",
              "          await google.colab.output.renderOutput(dataTable, element);\n",
              "          const docLink = document.createElement('div');\n",
              "          docLink.innerHTML = docLinkHtml;\n",
              "          element.appendChild(docLink);\n",
              "        }\n",
              "      </script>\n",
              "    </div>\n",
              "  </div>\n",
              "  "
            ]
          },
          "metadata": {},
          "execution_count": 159
        }
      ]
    },
    {
      "cell_type": "code",
      "source": [
        "df[(df['Type 1']=='Fire')].Attack.mean()"
      ],
      "metadata": {
        "colab": {
          "base_uri": "https://localhost:8080/"
        },
        "id": "snaD7U1y-x3o",
        "outputId": "1ce8335a-8ac1-41b2-a16f-3da3f6417205"
      },
      "execution_count": 155,
      "outputs": [
        {
          "output_type": "execute_result",
          "data": {
            "text/plain": [
              "84.76923076923077"
            ]
          },
          "metadata": {},
          "execution_count": 155
        }
      ]
    },
    {
      "cell_type": "code",
      "source": [
        "target.Attack.min()"
      ],
      "metadata": {
        "colab": {
          "base_uri": "https://localhost:8080/"
        },
        "id": "B6KPQm5O_Hdy",
        "outputId": "179660b2-7128-4892-91f4-85862520a37b"
      },
      "execution_count": 160,
      "outputs": [
        {
          "output_type": "execute_result",
          "data": {
            "text/plain": [
              "85"
            ]
          },
          "metadata": {},
          "execution_count": 160
        }
      ]
    },
    {
      "cell_type": "code",
      "source": [
        "target[(target['Type 1']=='Water')].shape[0]"
      ],
      "metadata": {
        "colab": {
          "base_uri": "https://localhost:8080/"
        },
        "id": "21ZbWJzr9GiM",
        "outputId": "1fb4dc51-3334-41ee-f0b2-392be4c987ad"
      },
      "execution_count": 143,
      "outputs": [
        {
          "output_type": "execute_result",
          "data": {
            "text/plain": [
              "37"
            ]
          },
          "metadata": {},
          "execution_count": 143
        }
      ]
    },
    {
      "cell_type": "markdown",
      "source": [
        "각 세대 중(Generation 컬럼)의 Speed와 Defense 컬럼의 차이(절댓값)이 가장 큰 세대는?\n",
        "\n"
      ],
      "metadata": {
        "id": "PUWC3elB3vTQ"
      }
    },
    {
      "cell_type": "code",
      "source": [
        "df.info()"
      ],
      "metadata": {
        "colab": {
          "base_uri": "https://localhost:8080/"
        },
        "id": "dxcuilsV35zi",
        "outputId": "187bd59d-2b7a-4a5c-e16e-0eb1c77fb27f"
      },
      "execution_count": 162,
      "outputs": [
        {
          "output_type": "stream",
          "name": "stdout",
          "text": [
            "<class 'pandas.core.frame.DataFrame'>\n",
            "RangeIndex: 800 entries, 0 to 799\n",
            "Data columns (total 13 columns):\n",
            " #   Column      Non-Null Count  Dtype \n",
            "---  ------      --------------  ----- \n",
            " 0   #           800 non-null    int64 \n",
            " 1   Name        800 non-null    object\n",
            " 2   Type 1      800 non-null    object\n",
            " 3   Type 2      414 non-null    object\n",
            " 4   Total       800 non-null    int64 \n",
            " 5   HP          800 non-null    int64 \n",
            " 6   Attack      800 non-null    int64 \n",
            " 7   Defense     800 non-null    int64 \n",
            " 8   Sp. Atk     800 non-null    int64 \n",
            " 9   Sp. Def     800 non-null    int64 \n",
            " 10  Speed       800 non-null    int64 \n",
            " 11  Generation  800 non-null    int64 \n",
            " 12  Legendary   800 non-null    bool  \n",
            "dtypes: bool(1), int64(9), object(3)\n",
            "memory usage: 75.9+ KB\n"
          ]
        }
      ]
    },
    {
      "cell_type": "code",
      "source": [
        "abs(df.groupby(['Generation'])[['Speed','Defense']].mean().diff(axis=1)).sort_values('Defense').index[-1]\n",
        "# diff는 한 객체 내에서 열과 열 / 행과 행의 차이를 출력하는 메서드 입니다.\n",
        "# T.메소드 = 행과 열을 전치시킨다."
      ],
      "metadata": {
        "colab": {
          "base_uri": "https://localhost:8080/"
        },
        "id": "7gD_cd6i_Z4u",
        "outputId": "40de02db-fe46-46a5-929b-cd437fffc21f"
      },
      "execution_count": 215,
      "outputs": [
        {
          "output_type": "execute_result",
          "data": {
            "text/plain": [
              "2"
            ]
          },
          "metadata": {},
          "execution_count": 215
        }
      ]
    },
    {
      "cell_type": "markdown",
      "source": [
        "* df.diff()\n",
        " * = row - row 행에서 행을 뺀다.\n",
        "* df.diff(axis=1)\n",
        " * = col - col 열에서 열을 뺀다.\n",
        "\n",
        "![제목을-입력해주세요_-001.jpg](data:image/jpeg;base64,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)"
      ],
      "metadata": {
        "id": "UYank7j6E-ex"
      }
    }
  ]
}
